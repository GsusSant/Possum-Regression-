{
 "cells": [
  {
   "cell_type": "code",
   "execution_count": 175,
   "metadata": {},
   "outputs": [],
   "source": [
    "import pandas as pd\n",
    "import numpy as np\n",
    "import matplotlib.pyplot as plt\n",
    "import seaborn as sns\n",
    "import plotly.express as px\n",
    "import sklearn\n",
    "from sklearn import datasets"
   ]
  },
  {
   "cell_type": "markdown",
   "metadata": {},
   "source": [
    "* Exploración Inicial:\n",
    "Examinen el conjunto de datos para entender su estructura, las variables disponibles y la cantidad de datos con los que trabajarán.\n",
    "* Limpieza de Datos:\n",
    "Identifiquen y traten los valores nulos. Pueden optar por eliminar filas con valores nulos o imputar estos valores.\n",
    "Detecten y decidan cómo manejar los datos atípicos para evitar distorsiones en el análisis.\n",
    "* Análisis Exploratorio de Datos (EDA):\n",
    "Realicen un análisis para explorar las relaciones entre las variables. Usen gráficos y estadísticas para resumir los datos.\n",
    "* Preprocesamiento de Datos:\n",
    "Normalicen o estandaricen las variables numéricas para asegurar que estén en una escala comparable.\n",
    "Conviertan las variables categóricas (como el género) en formatos numéricos utilizando técnicas adecuadas de codificación.\n",
    "* División de Datos:\n",
    "Separen el conjunto de datos en dos: un conjunto de entrenamiento y otro de prueba.\n",
    "* Modelado de Regresión:\n",
    "Construyan un modelo de regresión usando el conjunto de entrenamiento. Pueden empezar con una regresión lineal simple y luego explorar modelos más complejos si es necesario.\n",
    "* Evaluación del Modelo:\n",
    "Utilicen el conjunto de prueba para evaluar el rendimiento de su modelo. Presten atención a métricas como el RMSE y �2R2.\n",
    "* Iteración:\n",
    "Basándose en la evaluación, ajusten su modelo si es necesario. Experimenten con diferentes técnicas de modelado o selección de variables para mejorar los resultados.\n",
    "* Documentación:\n",
    "Documenten cuidadosamente su proceso de análisis y los resultados obtenidos, incluyendo gráficos y tablas que resuman sus hallazgos.\n",
    "* GitHub:\n",
    "Creación de Repositorio: Crear un repositorio en GitHub para su proyecto.\n",
    "Estructura del Repositorio: Organizar el repositorio con carpetas claramente definidas para datos, scripts de análisis y documentos."
   ]
  },
  {
   "cell_type": "code",
   "execution_count": 176,
   "metadata": {},
   "outputs": [],
   "source": [
    "df = pd.read_csv(r'C:\\Users\\Jesús\\Desktop\\BOOTCAMP\\TEMARIO\\MODULO_1\\SESION_12\\REGRESION\\possum.csv')"
   ]
  },
  {
   "cell_type": "code",
   "execution_count": 177,
   "metadata": {},
   "outputs": [
    {
     "data": {
      "text/html": [
       "<div>\n",
       "<style scoped>\n",
       "    .dataframe tbody tr th:only-of-type {\n",
       "        vertical-align: middle;\n",
       "    }\n",
       "\n",
       "    .dataframe tbody tr th {\n",
       "        vertical-align: top;\n",
       "    }\n",
       "\n",
       "    .dataframe thead th {\n",
       "        text-align: right;\n",
       "    }\n",
       "</style>\n",
       "<table border=\"1\" class=\"dataframe\">\n",
       "  <thead>\n",
       "    <tr style=\"text-align: right;\">\n",
       "      <th></th>\n",
       "      <th>case</th>\n",
       "      <th>site</th>\n",
       "      <th>Pop</th>\n",
       "      <th>sex</th>\n",
       "      <th>age</th>\n",
       "      <th>hdlngth</th>\n",
       "      <th>skullw</th>\n",
       "      <th>totlngth</th>\n",
       "      <th>taill</th>\n",
       "      <th>footlgth</th>\n",
       "      <th>earconch</th>\n",
       "      <th>eye</th>\n",
       "      <th>chest</th>\n",
       "      <th>belly</th>\n",
       "    </tr>\n",
       "  </thead>\n",
       "  <tbody>\n",
       "    <tr>\n",
       "      <th>0</th>\n",
       "      <td>1</td>\n",
       "      <td>1</td>\n",
       "      <td>Vic</td>\n",
       "      <td>m</td>\n",
       "      <td>8.0</td>\n",
       "      <td>94.1</td>\n",
       "      <td>60.4</td>\n",
       "      <td>89.0</td>\n",
       "      <td>36.0</td>\n",
       "      <td>74.5</td>\n",
       "      <td>54.5</td>\n",
       "      <td>15.2</td>\n",
       "      <td>28.0</td>\n",
       "      <td>36.0</td>\n",
       "    </tr>\n",
       "    <tr>\n",
       "      <th>1</th>\n",
       "      <td>2</td>\n",
       "      <td>1</td>\n",
       "      <td>Vic</td>\n",
       "      <td>f</td>\n",
       "      <td>6.0</td>\n",
       "      <td>92.5</td>\n",
       "      <td>57.6</td>\n",
       "      <td>91.5</td>\n",
       "      <td>36.5</td>\n",
       "      <td>72.5</td>\n",
       "      <td>51.2</td>\n",
       "      <td>16.0</td>\n",
       "      <td>28.5</td>\n",
       "      <td>33.0</td>\n",
       "    </tr>\n",
       "    <tr>\n",
       "      <th>2</th>\n",
       "      <td>3</td>\n",
       "      <td>1</td>\n",
       "      <td>Vic</td>\n",
       "      <td>f</td>\n",
       "      <td>6.0</td>\n",
       "      <td>94.0</td>\n",
       "      <td>60.0</td>\n",
       "      <td>95.5</td>\n",
       "      <td>39.0</td>\n",
       "      <td>75.4</td>\n",
       "      <td>51.9</td>\n",
       "      <td>15.5</td>\n",
       "      <td>30.0</td>\n",
       "      <td>34.0</td>\n",
       "    </tr>\n",
       "    <tr>\n",
       "      <th>3</th>\n",
       "      <td>4</td>\n",
       "      <td>1</td>\n",
       "      <td>Vic</td>\n",
       "      <td>f</td>\n",
       "      <td>6.0</td>\n",
       "      <td>93.2</td>\n",
       "      <td>57.1</td>\n",
       "      <td>92.0</td>\n",
       "      <td>38.0</td>\n",
       "      <td>76.1</td>\n",
       "      <td>52.2</td>\n",
       "      <td>15.2</td>\n",
       "      <td>28.0</td>\n",
       "      <td>34.0</td>\n",
       "    </tr>\n",
       "    <tr>\n",
       "      <th>4</th>\n",
       "      <td>5</td>\n",
       "      <td>1</td>\n",
       "      <td>Vic</td>\n",
       "      <td>f</td>\n",
       "      <td>2.0</td>\n",
       "      <td>91.5</td>\n",
       "      <td>56.3</td>\n",
       "      <td>85.5</td>\n",
       "      <td>36.0</td>\n",
       "      <td>71.0</td>\n",
       "      <td>53.2</td>\n",
       "      <td>15.1</td>\n",
       "      <td>28.5</td>\n",
       "      <td>33.0</td>\n",
       "    </tr>\n",
       "    <tr>\n",
       "      <th>...</th>\n",
       "      <td>...</td>\n",
       "      <td>...</td>\n",
       "      <td>...</td>\n",
       "      <td>...</td>\n",
       "      <td>...</td>\n",
       "      <td>...</td>\n",
       "      <td>...</td>\n",
       "      <td>...</td>\n",
       "      <td>...</td>\n",
       "      <td>...</td>\n",
       "      <td>...</td>\n",
       "      <td>...</td>\n",
       "      <td>...</td>\n",
       "      <td>...</td>\n",
       "    </tr>\n",
       "    <tr>\n",
       "      <th>99</th>\n",
       "      <td>100</td>\n",
       "      <td>7</td>\n",
       "      <td>other</td>\n",
       "      <td>m</td>\n",
       "      <td>1.0</td>\n",
       "      <td>89.5</td>\n",
       "      <td>56.0</td>\n",
       "      <td>81.5</td>\n",
       "      <td>36.5</td>\n",
       "      <td>66.0</td>\n",
       "      <td>46.8</td>\n",
       "      <td>14.8</td>\n",
       "      <td>23.0</td>\n",
       "      <td>27.0</td>\n",
       "    </tr>\n",
       "    <tr>\n",
       "      <th>100</th>\n",
       "      <td>101</td>\n",
       "      <td>7</td>\n",
       "      <td>other</td>\n",
       "      <td>m</td>\n",
       "      <td>1.0</td>\n",
       "      <td>88.6</td>\n",
       "      <td>54.7</td>\n",
       "      <td>82.5</td>\n",
       "      <td>39.0</td>\n",
       "      <td>64.4</td>\n",
       "      <td>48.0</td>\n",
       "      <td>14.0</td>\n",
       "      <td>25.0</td>\n",
       "      <td>33.0</td>\n",
       "    </tr>\n",
       "    <tr>\n",
       "      <th>101</th>\n",
       "      <td>102</td>\n",
       "      <td>7</td>\n",
       "      <td>other</td>\n",
       "      <td>f</td>\n",
       "      <td>6.0</td>\n",
       "      <td>92.4</td>\n",
       "      <td>55.0</td>\n",
       "      <td>89.0</td>\n",
       "      <td>38.0</td>\n",
       "      <td>63.5</td>\n",
       "      <td>45.4</td>\n",
       "      <td>13.0</td>\n",
       "      <td>25.0</td>\n",
       "      <td>30.0</td>\n",
       "    </tr>\n",
       "    <tr>\n",
       "      <th>102</th>\n",
       "      <td>103</td>\n",
       "      <td>7</td>\n",
       "      <td>other</td>\n",
       "      <td>m</td>\n",
       "      <td>4.0</td>\n",
       "      <td>91.5</td>\n",
       "      <td>55.2</td>\n",
       "      <td>82.5</td>\n",
       "      <td>36.5</td>\n",
       "      <td>62.9</td>\n",
       "      <td>45.9</td>\n",
       "      <td>15.4</td>\n",
       "      <td>25.0</td>\n",
       "      <td>29.0</td>\n",
       "    </tr>\n",
       "    <tr>\n",
       "      <th>103</th>\n",
       "      <td>104</td>\n",
       "      <td>7</td>\n",
       "      <td>other</td>\n",
       "      <td>f</td>\n",
       "      <td>3.0</td>\n",
       "      <td>93.6</td>\n",
       "      <td>59.9</td>\n",
       "      <td>89.0</td>\n",
       "      <td>40.0</td>\n",
       "      <td>67.6</td>\n",
       "      <td>46.0</td>\n",
       "      <td>14.8</td>\n",
       "      <td>28.5</td>\n",
       "      <td>33.5</td>\n",
       "    </tr>\n",
       "  </tbody>\n",
       "</table>\n",
       "<p>104 rows × 14 columns</p>\n",
       "</div>"
      ],
      "text/plain": [
       "     case  site    Pop sex  age  hdlngth  skullw  totlngth  taill  footlgth  \\\n",
       "0       1     1    Vic   m  8.0     94.1    60.4      89.0   36.0      74.5   \n",
       "1       2     1    Vic   f  6.0     92.5    57.6      91.5   36.5      72.5   \n",
       "2       3     1    Vic   f  6.0     94.0    60.0      95.5   39.0      75.4   \n",
       "3       4     1    Vic   f  6.0     93.2    57.1      92.0   38.0      76.1   \n",
       "4       5     1    Vic   f  2.0     91.5    56.3      85.5   36.0      71.0   \n",
       "..    ...   ...    ...  ..  ...      ...     ...       ...    ...       ...   \n",
       "99    100     7  other   m  1.0     89.5    56.0      81.5   36.5      66.0   \n",
       "100   101     7  other   m  1.0     88.6    54.7      82.5   39.0      64.4   \n",
       "101   102     7  other   f  6.0     92.4    55.0      89.0   38.0      63.5   \n",
       "102   103     7  other   m  4.0     91.5    55.2      82.5   36.5      62.9   \n",
       "103   104     7  other   f  3.0     93.6    59.9      89.0   40.0      67.6   \n",
       "\n",
       "     earconch   eye  chest  belly  \n",
       "0        54.5  15.2   28.0   36.0  \n",
       "1        51.2  16.0   28.5   33.0  \n",
       "2        51.9  15.5   30.0   34.0  \n",
       "3        52.2  15.2   28.0   34.0  \n",
       "4        53.2  15.1   28.5   33.0  \n",
       "..        ...   ...    ...    ...  \n",
       "99       46.8  14.8   23.0   27.0  \n",
       "100      48.0  14.0   25.0   33.0  \n",
       "101      45.4  13.0   25.0   30.0  \n",
       "102      45.9  15.4   25.0   29.0  \n",
       "103      46.0  14.8   28.5   33.5  \n",
       "\n",
       "[104 rows x 14 columns]"
      ]
     },
     "execution_count": 177,
     "metadata": {},
     "output_type": "execute_result"
    }
   ],
   "source": [
    "df "
   ]
  },
  {
   "cell_type": "markdown",
   "metadata": {},
   "source": [
    "* site\n",
    "uno de los siete lugares donde se atraparon zarigüeyas. Los lugares fueron, por orden, Cambarville, Bellbird, Whian Whian, Byrangery, Conondale, Allyn River y Bulburin.\n",
    "\n",
    "* Pop\n",
    "factor que clasifica los lugares como Vic Victoria, otros Nueva Gales del Sur o Queensland\n",
    "\n",
    "* sex\n",
    "\n",
    "* age\n",
    "\n",
    "\n",
    "* hdlngth\n",
    "longitud de la cabeza\n",
    "\n",
    "* skullw\n",
    "anchura del cráneo\n",
    "\n",
    "* totlngth\n",
    "longitud total\n",
    "\n",
    "* tail\n",
    "longitud de la cola\n",
    "\n",
    "* footlgth\n",
    "longitud del pie\n",
    "\n",
    "* earconch\n",
    "longitud de la concha auricular\n",
    "\n",
    "* eye\n",
    "distancia del canto medial al canto lateral del ojo derecho\n",
    "\n",
    "* chest\n",
    "perímetro torácico (en cm)\n",
    "\n",
    "* belly \n",
    "perímetro abdominal (en cm)"
   ]
  },
  {
   "cell_type": "code",
   "execution_count": 178,
   "metadata": {},
   "outputs": [
    {
     "data": {
      "text/plain": [
       "(104, 14)"
      ]
     },
     "execution_count": 178,
     "metadata": {},
     "output_type": "execute_result"
    }
   ],
   "source": [
    "df.shape"
   ]
  },
  {
   "cell_type": "code",
   "execution_count": 179,
   "metadata": {},
   "outputs": [
    {
     "data": {
      "text/plain": [
       "case        0\n",
       "site        0\n",
       "Pop         0\n",
       "sex         0\n",
       "age         2\n",
       "hdlngth     0\n",
       "skullw      0\n",
       "totlngth    0\n",
       "taill       0\n",
       "footlgth    1\n",
       "earconch    0\n",
       "eye         0\n",
       "chest       0\n",
       "belly       0\n",
       "dtype: int64"
      ]
     },
     "execution_count": 179,
     "metadata": {},
     "output_type": "execute_result"
    }
   ],
   "source": [
    "df.isnull().sum()"
   ]
  },
  {
   "cell_type": "code",
   "execution_count": 180,
   "metadata": {},
   "outputs": [],
   "source": [
    "# Eliminamos columna case que solo indica indice\n",
    "df.drop(['case'], inplace=True, axis=1)"
   ]
  },
  {
   "cell_type": "code",
   "execution_count": 181,
   "metadata": {},
   "outputs": [
    {
     "data": {
      "text/html": [
       "<div>\n",
       "<style scoped>\n",
       "    .dataframe tbody tr th:only-of-type {\n",
       "        vertical-align: middle;\n",
       "    }\n",
       "\n",
       "    .dataframe tbody tr th {\n",
       "        vertical-align: top;\n",
       "    }\n",
       "\n",
       "    .dataframe thead th {\n",
       "        text-align: right;\n",
       "    }\n",
       "</style>\n",
       "<table border=\"1\" class=\"dataframe\">\n",
       "  <thead>\n",
       "    <tr style=\"text-align: right;\">\n",
       "      <th></th>\n",
       "      <th>site</th>\n",
       "      <th>age</th>\n",
       "      <th>hdlngth</th>\n",
       "      <th>skullw</th>\n",
       "      <th>totlngth</th>\n",
       "      <th>taill</th>\n",
       "      <th>footlgth</th>\n",
       "      <th>earconch</th>\n",
       "      <th>eye</th>\n",
       "      <th>chest</th>\n",
       "      <th>belly</th>\n",
       "    </tr>\n",
       "  </thead>\n",
       "  <tbody>\n",
       "    <tr>\n",
       "      <th>count</th>\n",
       "      <td>104.000000</td>\n",
       "      <td>102.000000</td>\n",
       "      <td>104.000000</td>\n",
       "      <td>104.000000</td>\n",
       "      <td>104.000000</td>\n",
       "      <td>104.000000</td>\n",
       "      <td>103.000000</td>\n",
       "      <td>104.000000</td>\n",
       "      <td>104.000000</td>\n",
       "      <td>104.000000</td>\n",
       "      <td>104.000000</td>\n",
       "    </tr>\n",
       "    <tr>\n",
       "      <th>mean</th>\n",
       "      <td>3.625000</td>\n",
       "      <td>3.833333</td>\n",
       "      <td>92.602885</td>\n",
       "      <td>56.883654</td>\n",
       "      <td>87.088462</td>\n",
       "      <td>37.009615</td>\n",
       "      <td>68.459223</td>\n",
       "      <td>48.130769</td>\n",
       "      <td>15.046154</td>\n",
       "      <td>27.000000</td>\n",
       "      <td>32.586538</td>\n",
       "    </tr>\n",
       "    <tr>\n",
       "      <th>std</th>\n",
       "      <td>2.349086</td>\n",
       "      <td>1.909244</td>\n",
       "      <td>3.573349</td>\n",
       "      <td>3.113426</td>\n",
       "      <td>4.310549</td>\n",
       "      <td>1.959518</td>\n",
       "      <td>4.395306</td>\n",
       "      <td>4.109380</td>\n",
       "      <td>1.050374</td>\n",
       "      <td>2.045597</td>\n",
       "      <td>2.761949</td>\n",
       "    </tr>\n",
       "    <tr>\n",
       "      <th>min</th>\n",
       "      <td>1.000000</td>\n",
       "      <td>1.000000</td>\n",
       "      <td>82.500000</td>\n",
       "      <td>50.000000</td>\n",
       "      <td>75.000000</td>\n",
       "      <td>32.000000</td>\n",
       "      <td>60.300000</td>\n",
       "      <td>40.300000</td>\n",
       "      <td>12.800000</td>\n",
       "      <td>22.000000</td>\n",
       "      <td>25.000000</td>\n",
       "    </tr>\n",
       "    <tr>\n",
       "      <th>25%</th>\n",
       "      <td>1.000000</td>\n",
       "      <td>2.250000</td>\n",
       "      <td>90.675000</td>\n",
       "      <td>54.975000</td>\n",
       "      <td>84.000000</td>\n",
       "      <td>35.875000</td>\n",
       "      <td>64.600000</td>\n",
       "      <td>44.800000</td>\n",
       "      <td>14.400000</td>\n",
       "      <td>25.500000</td>\n",
       "      <td>31.000000</td>\n",
       "    </tr>\n",
       "    <tr>\n",
       "      <th>50%</th>\n",
       "      <td>3.000000</td>\n",
       "      <td>3.000000</td>\n",
       "      <td>92.800000</td>\n",
       "      <td>56.350000</td>\n",
       "      <td>88.000000</td>\n",
       "      <td>37.000000</td>\n",
       "      <td>68.000000</td>\n",
       "      <td>46.800000</td>\n",
       "      <td>14.900000</td>\n",
       "      <td>27.000000</td>\n",
       "      <td>32.500000</td>\n",
       "    </tr>\n",
       "    <tr>\n",
       "      <th>75%</th>\n",
       "      <td>6.000000</td>\n",
       "      <td>5.000000</td>\n",
       "      <td>94.725000</td>\n",
       "      <td>58.100000</td>\n",
       "      <td>90.000000</td>\n",
       "      <td>38.000000</td>\n",
       "      <td>72.500000</td>\n",
       "      <td>52.000000</td>\n",
       "      <td>15.725000</td>\n",
       "      <td>28.000000</td>\n",
       "      <td>34.125000</td>\n",
       "    </tr>\n",
       "    <tr>\n",
       "      <th>max</th>\n",
       "      <td>7.000000</td>\n",
       "      <td>9.000000</td>\n",
       "      <td>103.100000</td>\n",
       "      <td>68.600000</td>\n",
       "      <td>96.500000</td>\n",
       "      <td>43.000000</td>\n",
       "      <td>77.900000</td>\n",
       "      <td>56.200000</td>\n",
       "      <td>17.800000</td>\n",
       "      <td>32.000000</td>\n",
       "      <td>40.000000</td>\n",
       "    </tr>\n",
       "  </tbody>\n",
       "</table>\n",
       "</div>"
      ],
      "text/plain": [
       "             site         age     hdlngth      skullw    totlngth       taill  \\\n",
       "count  104.000000  102.000000  104.000000  104.000000  104.000000  104.000000   \n",
       "mean     3.625000    3.833333   92.602885   56.883654   87.088462   37.009615   \n",
       "std      2.349086    1.909244    3.573349    3.113426    4.310549    1.959518   \n",
       "min      1.000000    1.000000   82.500000   50.000000   75.000000   32.000000   \n",
       "25%      1.000000    2.250000   90.675000   54.975000   84.000000   35.875000   \n",
       "50%      3.000000    3.000000   92.800000   56.350000   88.000000   37.000000   \n",
       "75%      6.000000    5.000000   94.725000   58.100000   90.000000   38.000000   \n",
       "max      7.000000    9.000000  103.100000   68.600000   96.500000   43.000000   \n",
       "\n",
       "         footlgth    earconch         eye       chest       belly  \n",
       "count  103.000000  104.000000  104.000000  104.000000  104.000000  \n",
       "mean    68.459223   48.130769   15.046154   27.000000   32.586538  \n",
       "std      4.395306    4.109380    1.050374    2.045597    2.761949  \n",
       "min     60.300000   40.300000   12.800000   22.000000   25.000000  \n",
       "25%     64.600000   44.800000   14.400000   25.500000   31.000000  \n",
       "50%     68.000000   46.800000   14.900000   27.000000   32.500000  \n",
       "75%     72.500000   52.000000   15.725000   28.000000   34.125000  \n",
       "max     77.900000   56.200000   17.800000   32.000000   40.000000  "
      ]
     },
     "execution_count": 181,
     "metadata": {},
     "output_type": "execute_result"
    }
   ],
   "source": [
    "df.describe()"
   ]
  },
  {
   "cell_type": "code",
   "execution_count": 182,
   "metadata": {},
   "outputs": [
    {
     "name": "stdout",
     "output_type": "stream",
     "text": [
      "Columnas categóricas: Index(['Pop', 'sex'], dtype='object')\n",
      "Columnas numéricas: Index(['site', 'age', 'hdlngth', 'skullw', 'totlngth', 'taill', 'footlgth',\n",
      "       'earconch', 'eye', 'chest', 'belly'],\n",
      "      dtype='object')\n"
     ]
    }
   ],
   "source": [
    "str_columnas = df.select_dtypes(include = 'object').columns\n",
    "num_columnas = df.select_dtypes(exclude='object').columns\n",
    "print(f'Columnas categóricas: {str_columnas}')\n",
    "print(f'Columnas numéricas: {num_columnas}')"
   ]
  },
  {
   "cell_type": "code",
   "execution_count": 183,
   "metadata": {},
   "outputs": [],
   "source": [
    "# # Calcula la matriz de correlación\n",
    "# correlation_matrix = df_num.corr()\n",
    "\n",
    "# # Ordena la matriz de correlación según la correlación con \"body_mass_g\"\n",
    "# sorted_corr_matrix = correlation_matrix.sort_values(by='footlgth', ascending=False)\n",
    "# sorted_corr_matrix = sorted_corr_matrix.reindex(sorted_corr_matrix.columns, axis=0)\n",
    "\n",
    "# # Crea una máscara triangular inferior\n",
    "# mask = np.triu(np.ones_like(sorted_corr_matrix, dtype=bool))\n",
    "\n",
    "# # Configura el estilo de Seaborn\n",
    "# sns.set(style=\"white\")\n",
    "# sns.set_palette(\"Set2\")\n",
    "\n",
    "# # Crea un heatmap con Seaborn utilizando la máscara\n",
    "# plt.figure(figsize=(10, 8))\n",
    "\n",
    "# # Configuración del texto del annot en rojo\n",
    "# annot_kws = {\"color\": \"black\"}\n",
    "\n",
    "# sns.heatmap(sorted_corr_matrix, annot=True, fmt=\".2f\", cmap=\"YlGnBu\", linewidths=0.5, mask=mask, annot_kws=annot_kws)\n",
    "\n",
    "# # Añade un título con color blanco\n",
    "# plt.title(\"Heatmap de Correlación con Triángulo Inferior\", color=\"orange\")\n",
    "\n",
    "# # Hacer el fondo transparente\n",
    "# plt.gcf().set_facecolor('lightBlue')\n",
    "\n",
    "# # Configura el color del título y etiquetas de los ejes en blanco\n",
    "# plt.xlabel(\"Eje X\", color=\"white\")\n",
    "# plt.ylabel(\"Eje Y\", color=\"white\")\n",
    "\n",
    "# # Muestra el heatmap con el colorbar predeterminado\n",
    "# plt.show()\n"
   ]
  },
  {
   "cell_type": "code",
   "execution_count": 184,
   "metadata": {},
   "outputs": [
    {
     "data": {
      "text/html": [
       "<div>\n",
       "<style scoped>\n",
       "    .dataframe tbody tr th:only-of-type {\n",
       "        vertical-align: middle;\n",
       "    }\n",
       "\n",
       "    .dataframe tbody tr th {\n",
       "        vertical-align: top;\n",
       "    }\n",
       "\n",
       "    .dataframe thead th {\n",
       "        text-align: right;\n",
       "    }\n",
       "</style>\n",
       "<table border=\"1\" class=\"dataframe\">\n",
       "  <thead>\n",
       "    <tr style=\"text-align: right;\">\n",
       "      <th></th>\n",
       "      <th>site</th>\n",
       "      <th>Pop</th>\n",
       "      <th>sex</th>\n",
       "      <th>age</th>\n",
       "      <th>hdlngth</th>\n",
       "      <th>skullw</th>\n",
       "      <th>totlngth</th>\n",
       "      <th>taill</th>\n",
       "      <th>footlgth</th>\n",
       "      <th>earconch</th>\n",
       "      <th>eye</th>\n",
       "      <th>chest</th>\n",
       "      <th>belly</th>\n",
       "    </tr>\n",
       "  </thead>\n",
       "  <tbody>\n",
       "    <tr>\n",
       "      <th>40</th>\n",
       "      <td>2</td>\n",
       "      <td>Vic</td>\n",
       "      <td>f</td>\n",
       "      <td>5.0</td>\n",
       "      <td>88.4</td>\n",
       "      <td>57.0</td>\n",
       "      <td>83.0</td>\n",
       "      <td>36.5</td>\n",
       "      <td>NaN</td>\n",
       "      <td>40.3</td>\n",
       "      <td>15.9</td>\n",
       "      <td>27.0</td>\n",
       "      <td>30.5</td>\n",
       "    </tr>\n",
       "    <tr>\n",
       "      <th>43</th>\n",
       "      <td>2</td>\n",
       "      <td>Vic</td>\n",
       "      <td>m</td>\n",
       "      <td>NaN</td>\n",
       "      <td>85.1</td>\n",
       "      <td>51.5</td>\n",
       "      <td>76.0</td>\n",
       "      <td>35.5</td>\n",
       "      <td>70.3</td>\n",
       "      <td>52.6</td>\n",
       "      <td>14.4</td>\n",
       "      <td>23.0</td>\n",
       "      <td>27.0</td>\n",
       "    </tr>\n",
       "    <tr>\n",
       "      <th>45</th>\n",
       "      <td>2</td>\n",
       "      <td>Vic</td>\n",
       "      <td>m</td>\n",
       "      <td>NaN</td>\n",
       "      <td>91.4</td>\n",
       "      <td>54.4</td>\n",
       "      <td>84.0</td>\n",
       "      <td>35.0</td>\n",
       "      <td>72.8</td>\n",
       "      <td>51.2</td>\n",
       "      <td>14.4</td>\n",
       "      <td>24.5</td>\n",
       "      <td>35.0</td>\n",
       "    </tr>\n",
       "  </tbody>\n",
       "</table>\n",
       "</div>"
      ],
      "text/plain": [
       "    site  Pop sex  age  hdlngth  skullw  totlngth  taill  footlgth  earconch  \\\n",
       "40     2  Vic   f  5.0     88.4    57.0      83.0   36.5       NaN      40.3   \n",
       "43     2  Vic   m  NaN     85.1    51.5      76.0   35.5      70.3      52.6   \n",
       "45     2  Vic   m  NaN     91.4    54.4      84.0   35.0      72.8      51.2   \n",
       "\n",
       "     eye  chest  belly  \n",
       "40  15.9   27.0   30.5  \n",
       "43  14.4   23.0   27.0  \n",
       "45  14.4   24.5   35.0  "
      ]
     },
     "execution_count": 184,
     "metadata": {},
     "output_type": "execute_result"
    }
   ],
   "source": [
    "filas_con_nulos = df[df.isnull().any(axis=1)]\n",
    "filas_con_nulos"
   ]
  },
  {
   "cell_type": "code",
   "execution_count": 185,
   "metadata": {},
   "outputs": [],
   "source": [
    "# completamos nulos con mediana\n",
    "median_possum = df['age'].median()\n",
    "df['age'].fillna(median_possum, inplace=True)\n",
    "median_possum = df['footlgth'].median()\n",
    "df['footlgth'].fillna(median_possum, inplace=True)"
   ]
  },
  {
   "cell_type": "code",
   "execution_count": 186,
   "metadata": {},
   "outputs": [
    {
     "name": "stdout",
     "output_type": "stream",
     "text": [
      "['Vic' 'other']\n"
     ]
    }
   ],
   "source": [
    "# Valores unicos para transformar a numérico\n",
    "valores_pop = df['Pop'].unique()\n",
    "print(valores_pop)"
   ]
  },
  {
   "cell_type": "code",
   "execution_count": 187,
   "metadata": {},
   "outputs": [],
   "source": [
    "# Transformamos categóricos a números\n",
    "mapeo_pop = {'Vic': 1, 'other': 2}\n",
    "mapeo_sex = {'f': 1, 'm': 2}\n",
    "\n",
    "df.replace({'Pop': mapeo_pop, 'sex': mapeo_sex}, inplace=True)"
   ]
  },
  {
   "cell_type": "code",
   "execution_count": 188,
   "metadata": {},
   "outputs": [
    {
     "data": {
      "text/html": [
       "<div>\n",
       "<style scoped>\n",
       "    .dataframe tbody tr th:only-of-type {\n",
       "        vertical-align: middle;\n",
       "    }\n",
       "\n",
       "    .dataframe tbody tr th {\n",
       "        vertical-align: top;\n",
       "    }\n",
       "\n",
       "    .dataframe thead th {\n",
       "        text-align: right;\n",
       "    }\n",
       "</style>\n",
       "<table border=\"1\" class=\"dataframe\">\n",
       "  <thead>\n",
       "    <tr style=\"text-align: right;\">\n",
       "      <th></th>\n",
       "      <th>site</th>\n",
       "      <th>Pop</th>\n",
       "      <th>sex</th>\n",
       "      <th>age</th>\n",
       "      <th>hdlngth</th>\n",
       "      <th>skullw</th>\n",
       "      <th>totlngth</th>\n",
       "      <th>taill</th>\n",
       "      <th>footlgth</th>\n",
       "      <th>earconch</th>\n",
       "      <th>eye</th>\n",
       "      <th>chest</th>\n",
       "      <th>belly</th>\n",
       "    </tr>\n",
       "  </thead>\n",
       "  <tbody>\n",
       "    <tr>\n",
       "      <th>0</th>\n",
       "      <td>1</td>\n",
       "      <td>1</td>\n",
       "      <td>2</td>\n",
       "      <td>8.0</td>\n",
       "      <td>94.1</td>\n",
       "      <td>60.4</td>\n",
       "      <td>89.0</td>\n",
       "      <td>36.0</td>\n",
       "      <td>74.5</td>\n",
       "      <td>54.5</td>\n",
       "      <td>15.2</td>\n",
       "      <td>28.0</td>\n",
       "      <td>36.0</td>\n",
       "    </tr>\n",
       "    <tr>\n",
       "      <th>1</th>\n",
       "      <td>1</td>\n",
       "      <td>1</td>\n",
       "      <td>1</td>\n",
       "      <td>6.0</td>\n",
       "      <td>92.5</td>\n",
       "      <td>57.6</td>\n",
       "      <td>91.5</td>\n",
       "      <td>36.5</td>\n",
       "      <td>72.5</td>\n",
       "      <td>51.2</td>\n",
       "      <td>16.0</td>\n",
       "      <td>28.5</td>\n",
       "      <td>33.0</td>\n",
       "    </tr>\n",
       "  </tbody>\n",
       "</table>\n",
       "</div>"
      ],
      "text/plain": [
       "   site  Pop  sex  age  hdlngth  skullw  totlngth  taill  footlgth  earconch  \\\n",
       "0     1    1    2  8.0     94.1    60.4      89.0   36.0      74.5      54.5   \n",
       "1     1    1    1  6.0     92.5    57.6      91.5   36.5      72.5      51.2   \n",
       "\n",
       "    eye  chest  belly  \n",
       "0  15.2   28.0   36.0  \n",
       "1  16.0   28.5   33.0  "
      ]
     },
     "execution_count": 188,
     "metadata": {},
     "output_type": "execute_result"
    }
   ],
   "source": [
    "df.head(2)"
   ]
  },
  {
   "cell_type": "code",
   "execution_count": 189,
   "metadata": {},
   "outputs": [
    {
     "name": "stdout",
     "output_type": "stream",
     "text": [
      "Skewness:\n",
      " site        0.187788\n",
      "Pop        -0.235735\n",
      "sex        -0.356622\n",
      "age         0.565451\n",
      "hdlngth    -0.055974\n",
      "skullw      1.007540\n",
      "totlngth   -0.285266\n",
      "taill       0.167869\n",
      "footlgth    0.095538\n",
      "earconch    0.154808\n",
      "eye         0.392741\n",
      "chest      -0.055511\n",
      "belly       0.073975\n",
      "dtype: float64\n"
     ]
    }
   ],
   "source": [
    "skewness = df.skew()\n",
    "print(\"Skewness:\\n\", skewness)"
   ]
  },
  {
   "cell_type": "markdown",
   "metadata": {},
   "source": [
    " las variables que siguen una distribución normal (o al menos se aproximan a ella) son las que tienen una asimetría entre -0.5 y 0.5. Estas incluyen: <br>\n",
    "\n",
    "site <br>\n",
    "hdlngth <br>\n",
    "taill <br>\n",
    "footlgth  <br>\n",
    "earconch <br>\n",
    "eye <br>\n",
    "chest <br>\n",
    "belly <br>\n",
    "\n",
    "Las variables que no siguen una distribución normal son las que tienen una asimetría menor que -0.5 o mayor que 0.5. Estas incluyen: <br>\n",
    "\n",
    "age <br>\n",
    "skullw <br>"
   ]
  },
  {
   "cell_type": "code",
   "execution_count": 190,
   "metadata": {},
   "outputs": [
    {
     "data": {
      "image/png": "[encoded data removed]",
      "text/plain": [
       "<Figure size 300x300 with 1 Axes>"
      ]
     },
     "metadata": {},
     "output_type": "display_data"
    },
    {
     "data": {
      "image/png": "[encoded data removed]",
      "text/plain": [
       "<Figure size 300x300 with 1 Axes>"
      ]
     },
     "metadata": {},
     "output_type": "display_data"
    },
    {
     "data": {
      "image/png": "[encoded data removed]",
      "text/plain": [
       "<Figure size 300x300 with 1 Axes>"
      ]
     },
     "metadata": {},
     "output_type": "display_data"
    },
    {
     "data": {
      "image/png": "[encoded data removed]",
      "text/plain": [
       "<Figure size 300x300 with 1 Axes>"
      ]
     },
     "metadata": {},
     "output_type": "display_data"
    },
    {
     "data": {
      "image/png": "[encoded data removed]",
      "text/plain": [
       "<Figure size 300x300 with 1 Axes>"
      ]
     },
     "metadata": {},
     "output_type": "display_data"
    },
    {
     "data": {
      "image/png": "[encoded data removed]",
      "text/plain": [
       "<Figure size 300x300 with 1 Axes>"
      ]
     },
     "metadata": {},
     "output_type": "display_data"
    },
    {
     "data": {
      "image/png": "[encoded data removed]",
      "text/plain": [
       "<Figure size 300x300 with 1 Axes>"
      ]
     },
     "metadata": {},
     "output_type": "display_data"
    },
    {
     "data": {
      "image/png": "[encoded data removed]",
      "text/plain": [
       "<Figure size 300x300 with 1 Axes>"
      ]
     },
     "metadata": {},
     "output_type": "display_data"
    },
    {
     "data": {
      "image/png": "[encoded data removed]",
      "text/plain": [
       "<Figure size 300x300 with 1 Axes>"
      ]
     },
     "metadata": {},
     "output_type": "display_data"
    },
    {
     "data": {
      "image/png": "[encoded data removed]",
      "text/plain": [
       "<Figure size 300x300 with 1 Axes>"
      ]
     },
     "metadata": {},
     "output_type": "display_data"
    },
    {
     "data": {
      "image/png": "[encoded data removed]",
      "text/plain": [
       "<Figure size 300x300 with 1 Axes>"
      ]
     },
     "metadata": {},
     "output_type": "display_data"
    }
   ],
   "source": [
    "# Vamos a graficar:\n",
    "colors=[\"red\",\"blue\", \"green\",\"orange\",\"black\",\"purple\", \"brown\",\"pink\",\"red\",\"blue\", \"green\"]\n",
    "\n",
    "for i in range(11):\n",
    "    plt.figure(figsize=(3,3))\n",
    "    sns.set(style=\"darkgrid\")\n",
    "    sns.histplot(df, x=df[num_columnas[i]], kde=True, color=colors[i])\n",
    "    plt.title(f\"Distribution of {num_columnas[i]}\")\n",
    "    plt.show()"
   ]
  },
  {
   "cell_type": "code",
   "execution_count": 191,
   "metadata": {},
   "outputs": [
    {
     "data": {
      "image/png": "[encoded data removed]",
      "text/plain": [
       "<Figure size 500x500 with 1 Axes>"
      ]
     },
     "metadata": {},
     "output_type": "display_data"
    },
    {
     "data": {
      "image/png": "[encoded data removed]",
      "text/plain": [
       "<Figure size 500x500 with 1 Axes>"
      ]
     },
     "metadata": {},
     "output_type": "display_data"
    }
   ],
   "source": [
    "colors=[\"purple\",\"green\"]\n",
    "for i in range(2):\n",
    "    plt.figure(figsize=(5,5))\n",
    "    sns.countplot(df, x=df[str_columnas[i]],color=colors[i])\n",
    "    plt.title(f\"Countplot of {str_columnas[i]}\")\n",
    "    plt.show()\n",
    "    "
   ]
  },
  {
   "cell_type": "code",
   "execution_count": 192,
   "metadata": {},
   "outputs": [
    {
     "data": {
      "text/html": [
       "<style type=\"text/css\">\n",
       "#T_42618_row0_col0, #T_42618_row1_col1, #T_42618_row2_col2, #T_42618_row3_col3, #T_42618_row4_col4, #T_42618_row5_col5, #T_42618_row6_col6, #T_42618_row7_col7, #T_42618_row8_col8, #T_42618_row9_col9, #T_42618_row10_col10 {\n",
       "  background-color: #f0f921;\n",
       "  color: #000000;\n",
       "}\n",
       "#T_42618_row0_col1, #T_42618_row0_col2, #T_42618_row0_col3, #T_42618_row0_col4, #T_42618_row0_col6, #T_42618_row0_col7, #T_42618_row0_col9, #T_42618_row0_col10, #T_42618_row7_col0, #T_42618_row7_col5, #T_42618_row7_col8 {\n",
       "  background-color: #0d0887;\n",
       "  color: #f1f1f1;\n",
       "}\n",
       "#T_42618_row0_col5, #T_42618_row9_col7 {\n",
       "  background-color: #d7566c;\n",
       "  color: #f1f1f1;\n",
       "}\n",
       "#T_42618_row0_col8 {\n",
       "  background-color: #46039f;\n",
       "  color: #f1f1f1;\n",
       "}\n",
       "#T_42618_row1_col0, #T_42618_row8_col3 {\n",
       "  background-color: #a82296;\n",
       "  color: #f1f1f1;\n",
       "}\n",
       "#T_42618_row1_col2, #T_42618_row1_col4 {\n",
       "  background-color: #b52f8c;\n",
       "  color: #f1f1f1;\n",
       "}\n",
       "#T_42618_row1_col3, #T_42618_row1_col8, #T_42618_row4_col1, #T_42618_row10_col8 {\n",
       "  background-color: #a01a9c;\n",
       "  color: #f1f1f1;\n",
       "}\n",
       "#T_42618_row1_col5, #T_42618_row3_col1, #T_42618_row5_col6, #T_42618_row8_col9 {\n",
       "  background-color: #a72197;\n",
       "  color: #f1f1f1;\n",
       "}\n",
       "#T_42618_row1_col6 {\n",
       "  background-color: #cc4977;\n",
       "  color: #f1f1f1;\n",
       "}\n",
       "#T_42618_row1_col7 {\n",
       "  background-color: #c33d80;\n",
       "  color: #f1f1f1;\n",
       "}\n",
       "#T_42618_row1_col9, #T_42618_row2_col7 {\n",
       "  background-color: #cd4a76;\n",
       "  color: #f1f1f1;\n",
       "}\n",
       "#T_42618_row1_col10 {\n",
       "  background-color: #be3885;\n",
       "  color: #f1f1f1;\n",
       "}\n",
       "#T_42618_row2_col0, #T_42618_row8_col7, #T_42618_row8_col10 {\n",
       "  background-color: #a11b9b;\n",
       "  color: #f1f1f1;\n",
       "}\n",
       "#T_42618_row2_col1, #T_42618_row3_col0 {\n",
       "  background-color: #b02991;\n",
       "  color: #f1f1f1;\n",
       "}\n",
       "#T_42618_row2_col3 {\n",
       "  background-color: #f68f44;\n",
       "  color: #f1f1f1;\n",
       "}\n",
       "#T_42618_row2_col4 {\n",
       "  background-color: #f9973f;\n",
       "  color: #000000;\n",
       "}\n",
       "#T_42618_row2_col5 {\n",
       "  background-color: #c8437b;\n",
       "  color: #f1f1f1;\n",
       "}\n",
       "#T_42618_row2_col6, #T_42618_row9_col3 {\n",
       "  background-color: #eb7655;\n",
       "  color: #f1f1f1;\n",
       "}\n",
       "#T_42618_row2_col8, #T_42618_row3_col7, #T_42618_row8_col2, #T_42618_row8_col6 {\n",
       "  background-color: #bc3587;\n",
       "  color: #f1f1f1;\n",
       "}\n",
       "#T_42618_row2_col9, #T_42618_row3_col9 {\n",
       "  background-color: #f58c46;\n",
       "  color: #f1f1f1;\n",
       "}\n",
       "#T_42618_row2_col10 {\n",
       "  background-color: #e66c5c;\n",
       "  color: #f1f1f1;\n",
       "}\n",
       "#T_42618_row3_col2 {\n",
       "  background-color: #f89540;\n",
       "  color: #000000;\n",
       "}\n",
       "#T_42618_row3_col4, #T_42618_row10_col2 {\n",
       "  background-color: #e56b5d;\n",
       "  color: #f1f1f1;\n",
       "}\n",
       "#T_42618_row3_col5 {\n",
       "  background-color: #c23c81;\n",
       "  color: #f1f1f1;\n",
       "}\n",
       "#T_42618_row3_col6, #T_42618_row4_col10, #T_42618_row6_col9 {\n",
       "  background-color: #df6263;\n",
       "  color: #f1f1f1;\n",
       "}\n",
       "#T_42618_row3_col8, #T_42618_row8_col0, #T_42618_row8_col5 {\n",
       "  background-color: #b6308b;\n",
       "  color: #f1f1f1;\n",
       "}\n",
       "#T_42618_row3_col10 {\n",
       "  background-color: #d35171;\n",
       "  color: #f1f1f1;\n",
       "}\n",
       "#T_42618_row4_col0 {\n",
       "  background-color: #8e0ca4;\n",
       "  color: #f1f1f1;\n",
       "}\n",
       "#T_42618_row4_col2 {\n",
       "  background-color: #f79044;\n",
       "  color: #f1f1f1;\n",
       "}\n",
       "#T_42618_row4_col3 {\n",
       "  background-color: #da5a6a;\n",
       "  color: #f1f1f1;\n",
       "}\n",
       "#T_42618_row4_col5, #T_42618_row4_col9 {\n",
       "  background-color: #f07f4f;\n",
       "  color: #f1f1f1;\n",
       "}\n",
       "#T_42618_row4_col6, #T_42618_row9_col6 {\n",
       "  background-color: #f0804e;\n",
       "  color: #f1f1f1;\n",
       "}\n",
       "#T_42618_row4_col7 {\n",
       "  background-color: #d24f71;\n",
       "  color: #f1f1f1;\n",
       "}\n",
       "#T_42618_row4_col8 {\n",
       "  background-color: #a21d9a;\n",
       "  color: #f1f1f1;\n",
       "}\n",
       "#T_42618_row5_col0, #T_42618_row5_col4 {\n",
       "  background-color: #eb7556;\n",
       "  color: #f1f1f1;\n",
       "}\n",
       "#T_42618_row5_col1 {\n",
       "  background-color: #7201a8;\n",
       "  color: #f1f1f1;\n",
       "}\n",
       "#T_42618_row5_col2, #T_42618_row5_col9 {\n",
       "  background-color: #ad2793;\n",
       "  color: #f1f1f1;\n",
       "}\n",
       "#T_42618_row5_col3 {\n",
       "  background-color: #9511a1;\n",
       "  color: #f1f1f1;\n",
       "}\n",
       "#T_42618_row5_col7 {\n",
       "  background-color: #7401a8;\n",
       "  color: #f1f1f1;\n",
       "}\n",
       "#T_42618_row5_col8 {\n",
       "  background-color: #9410a2;\n",
       "  color: #f1f1f1;\n",
       "}\n",
       "#T_42618_row5_col10 {\n",
       "  background-color: #b12a90;\n",
       "  color: #f1f1f1;\n",
       "}\n",
       "#T_42618_row6_col0 {\n",
       "  background-color: #100788;\n",
       "  color: #f1f1f1;\n",
       "}\n",
       "#T_42618_row6_col1 {\n",
       "  background-color: #7100a8;\n",
       "  color: #f1f1f1;\n",
       "}\n",
       "#T_42618_row6_col2 {\n",
       "  background-color: #c5407e;\n",
       "  color: #f1f1f1;\n",
       "}\n",
       "#T_42618_row6_col3, #T_42618_row7_col4 {\n",
       "  background-color: #9a169f;\n",
       "  color: #f1f1f1;\n",
       "}\n",
       "#T_42618_row6_col4 {\n",
       "  background-color: #d9586a;\n",
       "  color: #f1f1f1;\n",
       "}\n",
       "#T_42618_row6_col5 {\n",
       "  background-color: #6400a7;\n",
       "  color: #f1f1f1;\n",
       "}\n",
       "#T_42618_row6_col7, #T_42618_row7_col6 {\n",
       "  background-color: #fdc328;\n",
       "  color: #000000;\n",
       "}\n",
       "#T_42618_row6_col8 {\n",
       "  background-color: #5502a4;\n",
       "  color: #f1f1f1;\n",
       "}\n",
       "#T_42618_row6_col10 {\n",
       "  background-color: #b32c8e;\n",
       "  color: #f1f1f1;\n",
       "}\n",
       "#T_42618_row7_col1 {\n",
       "  background-color: #5601a4;\n",
       "  color: #f1f1f1;\n",
       "}\n",
       "#T_42618_row7_col2 {\n",
       "  background-color: #7b02a8;\n",
       "  color: #f1f1f1;\n",
       "}\n",
       "#T_42618_row7_col3 {\n",
       "  background-color: #370499;\n",
       "  color: #f1f1f1;\n",
       "}\n",
       "#T_42618_row7_col9, #T_42618_row8_col4, #T_42618_row9_col5 {\n",
       "  background-color: #b22b8f;\n",
       "  color: #f1f1f1;\n",
       "}\n",
       "#T_42618_row7_col10 {\n",
       "  background-color: #6c00a8;\n",
       "  color: #f1f1f1;\n",
       "}\n",
       "#T_42618_row8_col1 {\n",
       "  background-color: #9814a0;\n",
       "  color: #f1f1f1;\n",
       "}\n",
       "#T_42618_row9_col0 {\n",
       "  background-color: #7d03a8;\n",
       "  color: #f1f1f1;\n",
       "}\n",
       "#T_42618_row9_col1 {\n",
       "  background-color: #b42e8d;\n",
       "  color: #f1f1f1;\n",
       "}\n",
       "#T_42618_row9_col2 {\n",
       "  background-color: #ef7e50;\n",
       "  color: #f1f1f1;\n",
       "}\n",
       "#T_42618_row9_col4, #T_42618_row9_col10 {\n",
       "  background-color: #ed7953;\n",
       "  color: #f1f1f1;\n",
       "}\n",
       "#T_42618_row9_col8 {\n",
       "  background-color: #8606a6;\n",
       "  color: #f1f1f1;\n",
       "}\n",
       "#T_42618_row10_col0 {\n",
       "  background-color: #9e199d;\n",
       "  color: #f1f1f1;\n",
       "}\n",
       "#T_42618_row10_col1 {\n",
       "  background-color: #b7318a;\n",
       "  color: #f1f1f1;\n",
       "}\n",
       "#T_42618_row10_col3 {\n",
       "  background-color: #ca457a;\n",
       "  color: #f1f1f1;\n",
       "}\n",
       "#T_42618_row10_col4 {\n",
       "  background-color: #e56a5d;\n",
       "  color: #f1f1f1;\n",
       "}\n",
       "#T_42618_row10_col5 {\n",
       "  background-color: #c9447a;\n",
       "  color: #f1f1f1;\n",
       "}\n",
       "#T_42618_row10_col6 {\n",
       "  background-color: #e26660;\n",
       "  color: #f1f1f1;\n",
       "}\n",
       "#T_42618_row10_col7 {\n",
       "  background-color: #c6417d;\n",
       "  color: #f1f1f1;\n",
       "}\n",
       "#T_42618_row10_col9 {\n",
       "  background-color: #f3874a;\n",
       "  color: #f1f1f1;\n",
       "}\n",
       "</style>\n",
       "<table id=\"T_42618\">\n",
       "  <thead>\n",
       "    <tr>\n",
       "      <th class=\"blank level0\" >&nbsp;</th>\n",
       "      <th id=\"T_42618_level0_col0\" class=\"col_heading level0 col0\" >site</th>\n",
       "      <th id=\"T_42618_level0_col1\" class=\"col_heading level0 col1\" >age</th>\n",
       "      <th id=\"T_42618_level0_col2\" class=\"col_heading level0 col2\" >hdlngth</th>\n",
       "      <th id=\"T_42618_level0_col3\" class=\"col_heading level0 col3\" >skullw</th>\n",
       "      <th id=\"T_42618_level0_col4\" class=\"col_heading level0 col4\" >totlngth</th>\n",
       "      <th id=\"T_42618_level0_col5\" class=\"col_heading level0 col5\" >taill</th>\n",
       "      <th id=\"T_42618_level0_col6\" class=\"col_heading level0 col6\" >footlgth</th>\n",
       "      <th id=\"T_42618_level0_col7\" class=\"col_heading level0 col7\" >earconch</th>\n",
       "      <th id=\"T_42618_level0_col8\" class=\"col_heading level0 col8\" >eye</th>\n",
       "      <th id=\"T_42618_level0_col9\" class=\"col_heading level0 col9\" >chest</th>\n",
       "      <th id=\"T_42618_level0_col10\" class=\"col_heading level0 col10\" >belly</th>\n",
       "    </tr>\n",
       "  </thead>\n",
       "  <tbody>\n",
       "    <tr>\n",
       "      <th id=\"T_42618_level0_row0\" class=\"row_heading level0 row0\" >site</th>\n",
       "      <td id=\"T_42618_row0_col0\" class=\"data row0 col0\" >1.000000</td>\n",
       "      <td id=\"T_42618_row0_col1\" class=\"data row0 col1\" >-0.124648</td>\n",
       "      <td id=\"T_42618_row0_col2\" class=\"data row0 col2\" >-0.163646</td>\n",
       "      <td id=\"T_42618_row0_col3\" class=\"data row0 col3\" >-0.083548</td>\n",
       "      <td id=\"T_42618_row0_col4\" class=\"data row0 col4\" >-0.260843</td>\n",
       "      <td id=\"T_42618_row0_col5\" class=\"data row0 col5\" >0.380444</td>\n",
       "      <td id=\"T_42618_row0_col6\" class=\"data row0 col6\" >-0.780424</td>\n",
       "      <td id=\"T_42618_row0_col7\" class=\"data row0 col7\" >-0.790716</td>\n",
       "      <td id=\"T_42618_row0_col8\" class=\"data row0 col8\" >-0.036987</td>\n",
       "      <td id=\"T_42618_row0_col9\" class=\"data row0 col9\" >-0.345494</td>\n",
       "      <td id=\"T_42618_row0_col10\" class=\"data row0 col10\" >-0.175266</td>\n",
       "    </tr>\n",
       "    <tr>\n",
       "      <th id=\"T_42618_level0_row1\" class=\"row_heading level0 row1\" >age</th>\n",
       "      <td id=\"T_42618_row1_col0\" class=\"data row1 col0\" >-0.124648</td>\n",
       "      <td id=\"T_42618_row1_col1\" class=\"data row1 col1\" >1.000000</td>\n",
       "      <td id=\"T_42618_row1_col2\" class=\"data row1 col2\" >0.321680</td>\n",
       "      <td id=\"T_42618_row1_col3\" class=\"data row1 col3\" >0.290232</td>\n",
       "      <td id=\"T_42618_row1_col4\" class=\"data row1 col4\" >0.264556</td>\n",
       "      <td id=\"T_42618_row1_col5\" class=\"data row1 col5\" >0.124729</td>\n",
       "      <td id=\"T_42618_row1_col6\" class=\"data row1 col6\" >0.118403</td>\n",
       "      <td id=\"T_42618_row1_col7\" class=\"data row1 col7\" >0.045009</td>\n",
       "      <td id=\"T_42618_row1_col8\" class=\"data row1 col8\" >0.239492</td>\n",
       "      <td id=\"T_42618_row1_col9\" class=\"data row1 col9\" >0.338276</td>\n",
       "      <td id=\"T_42618_row1_col10\" class=\"data row1 col10\" >0.350094</td>\n",
       "    </tr>\n",
       "    <tr>\n",
       "      <th id=\"T_42618_level0_row2\" class=\"row_heading level0 row2\" >hdlngth</th>\n",
       "      <td id=\"T_42618_row2_col0\" class=\"data row2 col0\" >-0.163646</td>\n",
       "      <td id=\"T_42618_row2_col1\" class=\"data row2 col1\" >0.321680</td>\n",
       "      <td id=\"T_42618_row2_col2\" class=\"data row2 col2\" >1.000000</td>\n",
       "      <td id=\"T_42618_row2_col3\" class=\"data row2 col3\" >0.710827</td>\n",
       "      <td id=\"T_42618_row2_col4\" class=\"data row2 col4\" >0.691094</td>\n",
       "      <td id=\"T_42618_row2_col5\" class=\"data row2 col5\" >0.287429</td>\n",
       "      <td id=\"T_42618_row2_col6\" class=\"data row2 col6\" >0.390119</td>\n",
       "      <td id=\"T_42618_row2_col7\" class=\"data row2 col7\" >0.121463</td>\n",
       "      <td id=\"T_42618_row2_col8\" class=\"data row2 col8\" >0.347175</td>\n",
       "      <td id=\"T_42618_row2_col9\" class=\"data row2 col9\" >0.631498</td>\n",
       "      <td id=\"T_42618_row2_col10\" class=\"data row2 col10\" >0.562663</td>\n",
       "    </tr>\n",
       "    <tr>\n",
       "      <th id=\"T_42618_level0_row3\" class=\"row_heading level0 row3\" >skullw</th>\n",
       "      <td id=\"T_42618_row3_col0\" class=\"data row3 col0\" >-0.083548</td>\n",
       "      <td id=\"T_42618_row3_col1\" class=\"data row3 col1\" >0.290232</td>\n",
       "      <td id=\"T_42618_row3_col2\" class=\"data row3 col2\" >0.710827</td>\n",
       "      <td id=\"T_42618_row3_col3\" class=\"data row3 col3\" >1.000000</td>\n",
       "      <td id=\"T_42618_row3_col4\" class=\"data row3 col4\" >0.526413</td>\n",
       "      <td id=\"T_42618_row3_col5\" class=\"data row3 col5\" >0.255921</td>\n",
       "      <td id=\"T_42618_row3_col6\" class=\"data row3 col6\" >0.275005</td>\n",
       "      <td id=\"T_42618_row3_col7\" class=\"data row3 col7\" >-0.000537</td>\n",
       "      <td id=\"T_42618_row3_col8\" class=\"data row3 col8\" >0.321991</td>\n",
       "      <td id=\"T_42618_row3_col9\" class=\"data row3 col9\" >0.629737</td>\n",
       "      <td id=\"T_42618_row3_col10\" class=\"data row3 col10\" >0.451838</td>\n",
       "    </tr>\n",
       "    <tr>\n",
       "      <th id=\"T_42618_level0_row4\" class=\"row_heading level0 row4\" >totlngth</th>\n",
       "      <td id=\"T_42618_row4_col0\" class=\"data row4 col0\" >-0.260843</td>\n",
       "      <td id=\"T_42618_row4_col1\" class=\"data row4 col1\" >0.264556</td>\n",
       "      <td id=\"T_42618_row4_col2\" class=\"data row4 col2\" >0.691094</td>\n",
       "      <td id=\"T_42618_row4_col3\" class=\"data row4 col3\" >0.526413</td>\n",
       "      <td id=\"T_42618_row4_col4\" class=\"data row4 col4\" >1.000000</td>\n",
       "      <td id=\"T_42618_row4_col5\" class=\"data row4 col5\" >0.565646</td>\n",
       "      <td id=\"T_42618_row4_col6\" class=\"data row4 col6\" >0.443809</td>\n",
       "      <td id=\"T_42618_row4_col7\" class=\"data row4 col7\" >0.154484</td>\n",
       "      <td id=\"T_42618_row4_col8\" class=\"data row4 col8\" >0.247786</td>\n",
       "      <td id=\"T_42618_row4_col9\" class=\"data row4 col9\" >0.577890</td>\n",
       "      <td id=\"T_42618_row4_col10\" class=\"data row4 col10\" >0.519465</td>\n",
       "    </tr>\n",
       "    <tr>\n",
       "      <th id=\"T_42618_level0_row5\" class=\"row_heading level0 row5\" >taill</th>\n",
       "      <td id=\"T_42618_row5_col0\" class=\"data row5 col0\" >0.380444</td>\n",
       "      <td id=\"T_42618_row5_col1\" class=\"data row5 col1\" >0.124729</td>\n",
       "      <td id=\"T_42618_row5_col2\" class=\"data row5 col2\" >0.287429</td>\n",
       "      <td id=\"T_42618_row5_col3\" class=\"data row5 col3\" >0.255921</td>\n",
       "      <td id=\"T_42618_row5_col4\" class=\"data row5 col4\" >0.565646</td>\n",
       "      <td id=\"T_42618_row5_col5\" class=\"data row5 col5\" >1.000000</td>\n",
       "      <td id=\"T_42618_row5_col6\" class=\"data row5 col6\" >-0.125963</td>\n",
       "      <td id=\"T_42618_row5_col7\" class=\"data row5 col7\" >-0.385136</td>\n",
       "      <td id=\"T_42618_row5_col8\" class=\"data row5 col8\" >0.198134</td>\n",
       "      <td id=\"T_42618_row5_col9\" class=\"data row5 col9\" >0.174997</td>\n",
       "      <td id=\"T_42618_row5_col10\" class=\"data row5 col10\" >0.294493</td>\n",
       "    </tr>\n",
       "    <tr>\n",
       "      <th id=\"T_42618_level0_row6\" class=\"row_heading level0 row6\" >footlgth</th>\n",
       "      <td id=\"T_42618_row6_col0\" class=\"data row6 col0\" >-0.780424</td>\n",
       "      <td id=\"T_42618_row6_col1\" class=\"data row6 col1\" >0.118403</td>\n",
       "      <td id=\"T_42618_row6_col2\" class=\"data row6 col2\" >0.390119</td>\n",
       "      <td id=\"T_42618_row6_col3\" class=\"data row6 col3\" >0.275005</td>\n",
       "      <td id=\"T_42618_row6_col4\" class=\"data row6 col4\" >0.443809</td>\n",
       "      <td id=\"T_42618_row6_col5\" class=\"data row6 col5\" >-0.125963</td>\n",
       "      <td id=\"T_42618_row6_col6\" class=\"data row6 col6\" >1.000000</td>\n",
       "      <td id=\"T_42618_row6_col7\" class=\"data row6 col7\" >0.770888</td>\n",
       "      <td id=\"T_42618_row6_col8\" class=\"data row6 col8\" >0.004368</td>\n",
       "      <td id=\"T_42618_row6_col9\" class=\"data row6 col9\" >0.450566</td>\n",
       "      <td id=\"T_42618_row6_col10\" class=\"data row6 col10\" >0.302490</td>\n",
       "    </tr>\n",
       "    <tr>\n",
       "      <th id=\"T_42618_level0_row7\" class=\"row_heading level0 row7\" >earconch</th>\n",
       "      <td id=\"T_42618_row7_col0\" class=\"data row7 col0\" >-0.790716</td>\n",
       "      <td id=\"T_42618_row7_col1\" class=\"data row7 col1\" >0.045009</td>\n",
       "      <td id=\"T_42618_row7_col2\" class=\"data row7 col2\" >0.121463</td>\n",
       "      <td id=\"T_42618_row7_col3\" class=\"data row7 col3\" >-0.000537</td>\n",
       "      <td id=\"T_42618_row7_col4\" class=\"data row7 col4\" >0.154484</td>\n",
       "      <td id=\"T_42618_row7_col5\" class=\"data row7 col5\" >-0.385136</td>\n",
       "      <td id=\"T_42618_row7_col6\" class=\"data row7 col6\" >0.770888</td>\n",
       "      <td id=\"T_42618_row7_col7\" class=\"data row7 col7\" >1.000000</td>\n",
       "      <td id=\"T_42618_row7_col8\" class=\"data row7 col8\" >-0.165092</td>\n",
       "      <td id=\"T_42618_row7_col9\" class=\"data row7 col9\" >0.199230</td>\n",
       "      <td id=\"T_42618_row7_col10\" class=\"data row7 col10\" >0.066527</td>\n",
       "    </tr>\n",
       "    <tr>\n",
       "      <th id=\"T_42618_level0_row8\" class=\"row_heading level0 row8\" >eye</th>\n",
       "      <td id=\"T_42618_row8_col0\" class=\"data row8 col0\" >-0.036987</td>\n",
       "      <td id=\"T_42618_row8_col1\" class=\"data row8 col1\" >0.239492</td>\n",
       "      <td id=\"T_42618_row8_col2\" class=\"data row8 col2\" >0.347175</td>\n",
       "      <td id=\"T_42618_row8_col3\" class=\"data row8 col3\" >0.321991</td>\n",
       "      <td id=\"T_42618_row8_col4\" class=\"data row8 col4\" >0.247786</td>\n",
       "      <td id=\"T_42618_row8_col5\" class=\"data row8 col5\" >0.198134</td>\n",
       "      <td id=\"T_42618_row8_col6\" class=\"data row8 col6\" >0.004368</td>\n",
       "      <td id=\"T_42618_row8_col7\" class=\"data row8 col7\" >-0.165092</td>\n",
       "      <td id=\"T_42618_row8_col8\" class=\"data row8 col8\" >1.000000</td>\n",
       "      <td id=\"T_42618_row8_col9\" class=\"data row8 col9\" >0.149338</td>\n",
       "      <td id=\"T_42618_row8_col10\" class=\"data row8 col10\" >0.235716</td>\n",
       "    </tr>\n",
       "    <tr>\n",
       "      <th id=\"T_42618_level0_row9\" class=\"row_heading level0 row9\" >chest</th>\n",
       "      <td id=\"T_42618_row9_col0\" class=\"data row9 col0\" >-0.345494</td>\n",
       "      <td id=\"T_42618_row9_col1\" class=\"data row9 col1\" >0.338276</td>\n",
       "      <td id=\"T_42618_row9_col2\" class=\"data row9 col2\" >0.631498</td>\n",
       "      <td id=\"T_42618_row9_col3\" class=\"data row9 col3\" >0.629737</td>\n",
       "      <td id=\"T_42618_row9_col4\" class=\"data row9 col4\" >0.577890</td>\n",
       "      <td id=\"T_42618_row9_col5\" class=\"data row9 col5\" >0.174997</td>\n",
       "      <td id=\"T_42618_row9_col6\" class=\"data row9 col6\" >0.450566</td>\n",
       "      <td id=\"T_42618_row9_col7\" class=\"data row9 col7\" >0.199230</td>\n",
       "      <td id=\"T_42618_row9_col8\" class=\"data row9 col8\" >0.149338</td>\n",
       "      <td id=\"T_42618_row9_col9\" class=\"data row9 col9\" >1.000000</td>\n",
       "      <td id=\"T_42618_row9_col10\" class=\"data row9 col10\" >0.606170</td>\n",
       "    </tr>\n",
       "    <tr>\n",
       "      <th id=\"T_42618_level0_row10\" class=\"row_heading level0 row10\" >belly</th>\n",
       "      <td id=\"T_42618_row10_col0\" class=\"data row10 col0\" >-0.175266</td>\n",
       "      <td id=\"T_42618_row10_col1\" class=\"data row10 col1\" >0.350094</td>\n",
       "      <td id=\"T_42618_row10_col2\" class=\"data row10 col2\" >0.562663</td>\n",
       "      <td id=\"T_42618_row10_col3\" class=\"data row10 col3\" >0.451838</td>\n",
       "      <td id=\"T_42618_row10_col4\" class=\"data row10 col4\" >0.519465</td>\n",
       "      <td id=\"T_42618_row10_col5\" class=\"data row10 col5\" >0.294493</td>\n",
       "      <td id=\"T_42618_row10_col6\" class=\"data row10 col6\" >0.302490</td>\n",
       "      <td id=\"T_42618_row10_col7\" class=\"data row10 col7\" >0.066527</td>\n",
       "      <td id=\"T_42618_row10_col8\" class=\"data row10 col8\" >0.235716</td>\n",
       "      <td id=\"T_42618_row10_col9\" class=\"data row10 col9\" >0.606170</td>\n",
       "      <td id=\"T_42618_row10_col10\" class=\"data row10 col10\" >1.000000</td>\n",
       "    </tr>\n",
       "  </tbody>\n",
       "</table>\n"
      ],
      "text/plain": [
       "<pandas.io.formats.style.Styler at 0x1a0171851b0>"
      ]
     },
     "execution_count": 192,
     "metadata": {},
     "output_type": "execute_result"
    }
   ],
   "source": [
    "df_num = df.drop(['Pop', 'sex'], axis=1)\n",
    "df_num.corr().style.background_gradient(cmap='plasma')"
   ]
  },
  {
   "cell_type": "markdown",
   "metadata": {},
   "source": [
    "*********"
   ]
  },
  {
   "cell_type": "code",
   "execution_count": 193,
   "metadata": {},
   "outputs": [
    {
     "data": {
      "application/vnd.plotly.v1+json": {
       "config": {
        "plotlyServerURL": "https://plot.ly"
       },
       "data": [
        {
         "hovertemplate": "hdlngth=%{x}<br>age=%{marker.color}<extra></extra>",
         "legendgroup": "",
         "marker": {
          "color": [
           8,
           6,
           6,
           6,
           2,
           1,
           2,
           6,
           9,
           6,
           9,
           5,
           5,
           3,
           5,
           4,
           1,
           2,
           5,
           4,
           3,
           3,
           4,
           2,
           3,
           7,
           2,
           4,
           3,
           2,
           3,
           4,
           3,
           2,
           4,
           7,
           2,
           7,
           1,
           3,
           5,
           3,
           2,
           3,
           3,
           3,
           2,
           5,
           4,
           5,
           5,
           6,
           3,
           7,
           2,
           3,
           4,
           3,
           2,
           2,
           7,
           3,
           6,
           3,
           5,
           3,
           4,
           5,
           5,
           7,
           6,
           1,
           1,
           4,
           6,
           5,
           6,
           1,
           1,
           1,
           3,
           4,
           3,
           3,
           3,
           3,
           2,
           2,
           6,
           3,
           3,
           2,
           3,
           7,
           4,
           4,
           3,
           5,
           3,
           1,
           1,
           6,
           4,
           3
          ],
          "coloraxis": "coloraxis",
          "symbol": "circle"
         },
         "mode": "markers",
         "name": "",
         "orientation": "v",
         "showlegend": false,
         "type": "scatter",
         "x": [
          94.1,
          92.5,
          94,
          93.2,
          91.5,
          93.1,
          95.3,
          94.8,
          93.4,
          91.8,
          93.3,
          94.9,
          95.1,
          95.4,
          92.9,
          91.6,
          94.7,
          93.5,
          94.4,
          94.8,
          95.9,
          96.3,
          92.5,
          94.4,
          95.8,
          96,
          90.5,
          93.8,
          92.8,
          92.1,
          92.8,
          94.3,
          91.4,
          90.6,
          94.4,
          93.3,
          89.3,
          92.4,
          84.7,
          91,
          88.4,
          85.3,
          90,
          85.1,
          90.7,
          91.4,
          90.1,
          98.6,
          95.4,
          91.6,
          95.6,
          97.6,
          93.1,
          96.9,
          103.1,
          99.9,
          95.1,
          94.5,
          102.5,
          91.3,
          95.7,
          91.3,
          92,
          96.9,
          93.5,
          90.4,
          93.3,
          94.1,
          98,
          91.9,
          92.8,
          85.9,
          82.5,
          88.7,
          93.8,
          92.4,
          93.6,
          86.5,
          85.8,
          86.7,
          90.6,
          86,
          90,
          88.4,
          89.5,
          88.2,
          98.5,
          89.6,
          97.7,
          92.6,
          97.8,
          90.7,
          89.2,
          91.8,
          91.6,
          94.8,
          91,
          93.2,
          93.3,
          89.5,
          88.6,
          92.4,
          91.5,
          93.6
         ],
         "xaxis": "x",
         "y": [
          8,
          6,
          6,
          6,
          2,
          1,
          2,
          6,
          9,
          6,
          9,
          5,
          5,
          3,
          5,
          4,
          1,
          2,
          5,
          4,
          3,
          3,
          4,
          2,
          3,
          7,
          2,
          4,
          3,
          2,
          3,
          4,
          3,
          2,
          4,
          7,
          2,
          7,
          1,
          3,
          5,
          3,
          2,
          3,
          3,
          3,
          2,
          5,
          4,
          5,
          5,
          6,
          3,
          7,
          2,
          3,
          4,
          3,
          2,
          2,
          7,
          3,
          6,
          3,
          5,
          3,
          4,
          5,
          5,
          7,
          6,
          1,
          1,
          4,
          6,
          5,
          6,
          1,
          1,
          1,
          3,
          4,
          3,
          3,
          3,
          3,
          2,
          2,
          6,
          3,
          3,
          2,
          3,
          7,
          4,
          4,
          3,
          5,
          3,
          1,
          1,
          6,
          4,
          3
         ],
         "yaxis": "y"
        },
        {
         "hovertemplate": "<b>OLS trendline</b><br>age = 0.170511 * hdlngth + -11.9725<br>R<sup>2</sup>=0.103478<br><br>hdlngth=%{x}<br>age=%{y} <b>(trend)</b><extra></extra>",
         "legendgroup": "",
         "marker": {
          "symbol": "circle"
         },
         "mode": "lines",
         "name": "",
         "showlegend": false,
         "type": "scatter",
         "x": [
          82.5,
          84.7,
          85.1,
          85.3,
          85.8,
          85.9,
          86,
          86.5,
          86.7,
          88.2,
          88.4,
          88.4,
          88.6,
          88.7,
          89.2,
          89.3,
          89.5,
          89.5,
          89.6,
          90,
          90,
          90.1,
          90.4,
          90.5,
          90.6,
          90.6,
          90.7,
          90.7,
          91,
          91,
          91.3,
          91.3,
          91.4,
          91.4,
          91.5,
          91.5,
          91.6,
          91.6,
          91.6,
          91.8,
          91.8,
          91.9,
          92,
          92.1,
          92.4,
          92.4,
          92.4,
          92.5,
          92.5,
          92.6,
          92.8,
          92.8,
          92.8,
          92.9,
          93.1,
          93.1,
          93.2,
          93.2,
          93.3,
          93.3,
          93.3,
          93.3,
          93.4,
          93.5,
          93.5,
          93.6,
          93.6,
          93.8,
          93.8,
          94,
          94.1,
          94.1,
          94.3,
          94.4,
          94.4,
          94.4,
          94.5,
          94.7,
          94.8,
          94.8,
          94.8,
          94.9,
          95.1,
          95.1,
          95.3,
          95.4,
          95.4,
          95.6,
          95.7,
          95.8,
          95.9,
          96,
          96.3,
          96.9,
          96.9,
          97.6,
          97.7,
          97.8,
          98,
          98.5,
          98.6,
          99.9,
          102.5,
          103.1
         ],
         "xaxis": "x",
         "y": [
          2.0946501771791226,
          2.4697753693951885,
          2.5379799497981086,
          2.5720822399995704,
          2.6573379655032205,
          2.6743891106039523,
          2.6914402557046824,
          2.7766959812083343,
          2.8107982714097943,
          3.0665654479207483,
          3.10066773812221,
          3.10066773812221,
          3.1347700283236684,
          3.1518211734244,
          3.2370768989280503,
          3.2541280440287803,
          3.2882303342302404,
          3.2882303342302404,
          3.3052814793309704,
          3.3734860597338923,
          3.3734860597338923,
          3.3905372048346223,
          3.441690640136814,
          3.458741785237544,
          3.4757929303382724,
          3.4757929303382724,
          3.492844075439004,
          3.492844075439004,
          3.5439975107411943,
          3.5439975107411943,
          3.595150946043386,
          3.595150946043386,
          3.612202091144118,
          3.612202091144118,
          3.629253236244846,
          3.629253236244846,
          3.646304381345576,
          3.646304381345576,
          3.646304381345576,
          3.6804066715470363,
          3.6804066715470363,
          3.697457816647768,
          3.714508961748498,
          3.7315601068492263,
          3.78271354215142,
          3.78271354215142,
          3.78271354215142,
          3.799764687252148,
          3.799764687252148,
          3.8168158323528782,
          3.85091812255434,
          3.85091812255434,
          3.85091812255434,
          3.86796926765507,
          3.90207155785653,
          3.90207155785653,
          3.919122702957262,
          3.919122702957262,
          3.93617384805799,
          3.93617384805799,
          3.93617384805799,
          3.93617384805799,
          3.953224993158722,
          3.970276138259452,
          3.970276138259452,
          3.9873272833601803,
          3.9873272833601803,
          4.021429573561642,
          4.021429573561642,
          4.055531863763104,
          4.07258300886383,
          4.07258300886383,
          4.106685299065294,
          4.123736444166024,
          4.123736444166024,
          4.123736444166024,
          4.140787589266754,
          4.174889879468214,
          4.191941024568944,
          4.191941024568944,
          4.191941024568944,
          4.208992169669678,
          4.243094459871134,
          4.243094459871134,
          4.277196750072594,
          4.294247895173328,
          4.294247895173328,
          4.328350185374784,
          4.345401330475518,
          4.362452475576248,
          4.379503620676978,
          4.396554765777708,
          4.447708201079898,
          4.550015071684282,
          4.550015071684282,
          4.669373087389392,
          4.686424232490122,
          4.703475377590852,
          4.737577667792312,
          4.822833393295966,
          4.839884538396692,
          5.06154942470619,
          5.504879197325174,
          5.607186067929554
         ],
         "yaxis": "y"
        }
       ],
       "layout": {
        "coloraxis": {
         "colorbar": {
          "title": {
           "text": "age"
          }
         },
         "colorscale": [
          [
           0,
           "#0d0887"
          ],
          [
           0.1111111111111111,
           "#46039f"
          ],
          [
           0.2222222222222222,
           "#7201a8"
          ],
          [
           0.3333333333333333,
           "#9c179e"
          ],
          [
           0.4444444444444444,
           "#bd3786"
          ],
          [
           0.5555555555555556,
           "#d8576b"
          ],
          [
           0.6666666666666666,
           "#ed7953"
          ],
          [
           0.7777777777777778,
           "#fb9f3a"
          ],
          [
           0.8888888888888888,
           "#fdca26"
          ],
          [
           1,
           "#f0f921"
          ]
         ]
        },
        "legend": {
         "tracegroupgap": 0
        },
        "template": {
         "data": {
          "bar": [
           {
            "error_x": {
             "color": "#2a3f5f"
            },
            "error_y": {
             "color": "#2a3f5f"
            },
            "marker": {
             "line": {
              "color": "#E5ECF6",
              "width": 0.5
             },
             "pattern": {
              "fillmode": "overlay",
              "size": 10,
              "solidity": 0.2
             }
            },
            "type": "bar"
           }
          ],
          "barpolar": [
           {
            "marker": {
             "line": {
              "color": "#E5ECF6",
              "width": 0.5
             },
             "pattern": {
              "fillmode": "overlay",
              "size": 10,
              "solidity": 0.2
             }
            },
            "type": "barpolar"
           }
          ],
          "carpet": [
           {
            "aaxis": {
             "endlinecolor": "#2a3f5f",
             "gridcolor": "white",
             "linecolor": "white",
             "minorgridcolor": "white",
             "startlinecolor": "#2a3f5f"
            },
            "baxis": {
             "endlinecolor": "#2a3f5f",
             "gridcolor": "white",
             "linecolor": "white",
             "minorgridcolor": "white",
             "startlinecolor": "#2a3f5f"
            },
            "type": "carpet"
           }
          ],
          "choropleth": [
           {
            "colorbar": {
             "outlinewidth": 0,
             "ticks": ""
            },
            "type": "choropleth"
           }
          ],
          "contour": [
           {
            "colorbar": {
             "outlinewidth": 0,
             "ticks": ""
            },
            "colorscale": [
             [
              0,
              "#0d0887"
             ],
             [
              0.1111111111111111,
              "#46039f"
             ],
             [
              0.2222222222222222,
              "#7201a8"
             ],
             [
              0.3333333333333333,
              "#9c179e"
             ],
             [
              0.4444444444444444,
              "#bd3786"
             ],
             [
              0.5555555555555556,
              "#d8576b"
             ],
             [
              0.6666666666666666,
              "#ed7953"
             ],
             [
              0.7777777777777778,
              "#fb9f3a"
             ],
             [
              0.8888888888888888,
              "#fdca26"
             ],
             [
              1,
              "#f0f921"
             ]
            ],
            "type": "contour"
           }
          ],
          "contourcarpet": [
           {
            "colorbar": {
             "outlinewidth": 0,
             "ticks": ""
            },
            "type": "contourcarpet"
           }
          ],
          "heatmap": [
           {
            "colorbar": {
             "outlinewidth": 0,
             "ticks": ""
            },
            "colorscale": [
             [
              0,
              "#0d0887"
             ],
             [
              0.1111111111111111,
              "#46039f"
             ],
             [
              0.2222222222222222,
              "#7201a8"
             ],
             [
              0.3333333333333333,
              "#9c179e"
             ],
             [
              0.4444444444444444,
              "#bd3786"
             ],
             [
              0.5555555555555556,
              "#d8576b"
             ],
             [
              0.6666666666666666,
              "#ed7953"
             ],
             [
              0.7777777777777778,
              "#fb9f3a"
             ],
             [
              0.8888888888888888,
              "#fdca26"
             ],
             [
              1,
              "#f0f921"
             ]
            ],
            "type": "heatmap"
           }
          ],
          "heatmapgl": [
           {
            "colorbar": {
             "outlinewidth": 0,
             "ticks": ""
            },
            "colorscale": [
             [
              0,
              "#0d0887"
             ],
             [
              0.1111111111111111,
              "#46039f"
             ],
             [
              0.2222222222222222,
              "#7201a8"
             ],
             [
              0.3333333333333333,
              "#9c179e"
             ],
             [
              0.4444444444444444,
              "#bd3786"
             ],
             [
              0.5555555555555556,
              "#d8576b"
             ],
             [
              0.6666666666666666,
              "#ed7953"
             ],
             [
              0.7777777777777778,
              "#fb9f3a"
             ],
             [
              0.8888888888888888,
              "#fdca26"
             ],
             [
              1,
              "#f0f921"
             ]
            ],
            "type": "heatmapgl"
           }
          ],
          "histogram": [
           {
            "marker": {
             "pattern": {
              "fillmode": "overlay",
              "size": 10,
              "solidity": 0.2
             }
            },
            "type": "histogram"
           }
          ],
          "histogram2d": [
           {
            "colorbar": {
             "outlinewidth": 0,
             "ticks": ""
            },
            "colorscale": [
             [
              0,
              "#0d0887"
             ],
             [
              0.1111111111111111,
              "#46039f"
             ],
             [
              0.2222222222222222,
              "#7201a8"
             ],
             [
              0.3333333333333333,
              "#9c179e"
             ],
             [
              0.4444444444444444,
              "#bd3786"
             ],
             [
              0.5555555555555556,
              "#d8576b"
             ],
             [
              0.6666666666666666,
              "#ed7953"
             ],
             [
              0.7777777777777778,
              "#fb9f3a"
             ],
             [
              0.8888888888888888,
              "#fdca26"
             ],
             [
              1,
              "#f0f921"
             ]
            ],
            "type": "histogram2d"
           }
          ],
          "histogram2dcontour": [
           {
            "colorbar": {
             "outlinewidth": 0,
             "ticks": ""
            },
            "colorscale": [
             [
              0,
              "#0d0887"
             ],
             [
              0.1111111111111111,
              "#46039f"
             ],
             [
              0.2222222222222222,
              "#7201a8"
             ],
             [
              0.3333333333333333,
              "#9c179e"
             ],
             [
              0.4444444444444444,
              "#bd3786"
             ],
             [
              0.5555555555555556,
              "#d8576b"
             ],
             [
              0.6666666666666666,
              "#ed7953"
             ],
             [
              0.7777777777777778,
              "#fb9f3a"
             ],
             [
              0.8888888888888888,
              "#fdca26"
             ],
             [
              1,
              "#f0f921"
             ]
            ],
            "type": "histogram2dcontour"
           }
          ],
          "mesh3d": [
           {
            "colorbar": {
             "outlinewidth": 0,
             "ticks": ""
            },
            "type": "mesh3d"
           }
          ],
          "parcoords": [
           {
            "line": {
             "colorbar": {
              "outlinewidth": 0,
              "ticks": ""
             }
            },
            "type": "parcoords"
           }
          ],
          "pie": [
           {
            "automargin": true,
            "type": "pie"
           }
          ],
          "scatter": [
           {
            "fillpattern": {
             "fillmode": "overlay",
             "size": 10,
             "solidity": 0.2
            },
            "type": "scatter"
           }
          ],
          "scatter3d": [
           {
            "line": {
             "colorbar": {
              "outlinewidth": 0,
              "ticks": ""
             }
            },
            "marker": {
             "colorbar": {
              "outlinewidth": 0,
              "ticks": ""
             }
            },
            "type": "scatter3d"
           }
          ],
          "scattercarpet": [
           {
            "marker": {
             "colorbar": {
              "outlinewidth": 0,
              "ticks": ""
             }
            },
            "type": "scattercarpet"
           }
          ],
          "scattergeo": [
           {
            "marker": {
             "colorbar": {
              "outlinewidth": 0,
              "ticks": ""
             }
            },
            "type": "scattergeo"
           }
          ],
          "scattergl": [
           {
            "marker": {
             "colorbar": {
              "outlinewidth": 0,
              "ticks": ""
             }
            },
            "type": "scattergl"
           }
          ],
          "scattermapbox": [
           {
            "marker": {
             "colorbar": {
              "outlinewidth": 0,
              "ticks": ""
             }
            },
            "type": "scattermapbox"
           }
          ],
          "scatterpolar": [
           {
            "marker": {
             "colorbar": {
              "outlinewidth": 0,
              "ticks": ""
             }
            },
            "type": "scatterpolar"
           }
          ],
          "scatterpolargl": [
           {
            "marker": {
             "colorbar": {
              "outlinewidth": 0,
              "ticks": ""
             }
            },
            "type": "scatterpolargl"
           }
          ],
          "scatterternary": [
           {
            "marker": {
             "colorbar": {
              "outlinewidth": 0,
              "ticks": ""
             }
            },
            "type": "scatterternary"
           }
          ],
          "surface": [
           {
            "colorbar": {
             "outlinewidth": 0,
             "ticks": ""
            },
            "colorscale": [
             [
              0,
              "#0d0887"
             ],
             [
              0.1111111111111111,
              "#46039f"
             ],
             [
              0.2222222222222222,
              "#7201a8"
             ],
             [
              0.3333333333333333,
              "#9c179e"
             ],
             [
              0.4444444444444444,
              "#bd3786"
             ],
             [
              0.5555555555555556,
              "#d8576b"
             ],
             [
              0.6666666666666666,
              "#ed7953"
             ],
             [
              0.7777777777777778,
              "#fb9f3a"
             ],
             [
              0.8888888888888888,
              "#fdca26"
             ],
             [
              1,
              "#f0f921"
             ]
            ],
            "type": "surface"
           }
          ],
          "table": [
           {
            "cells": {
             "fill": {
              "color": "#EBF0F8"
             },
             "line": {
              "color": "white"
             }
            },
            "header": {
             "fill": {
              "color": "#C8D4E3"
             },
             "line": {
              "color": "white"
             }
            },
            "type": "table"
           }
          ]
         },
         "layout": {
          "annotationdefaults": {
           "arrowcolor": "#2a3f5f",
           "arrowhead": 0,
           "arrowwidth": 1
          },
          "autotypenumbers": "strict",
          "coloraxis": {
           "colorbar": {
            "outlinewidth": 0,
            "ticks": ""
           }
          },
          "colorscale": {
           "diverging": [
            [
             0,
             "#8e0152"
            ],
            [
             0.1,
             "#c51b7d"
            ],
            [
             0.2,
             "#de77ae"
            ],
            [
             0.3,
             "#f1b6da"
            ],
            [
             0.4,
             "#fde0ef"
            ],
            [
             0.5,
             "#f7f7f7"
            ],
            [
             0.6,
             "#e6f5d0"
            ],
            [
             0.7,
             "#b8e186"
            ],
            [
             0.8,
             "#7fbc41"
            ],
            [
             0.9,
             "#4d9221"
            ],
            [
             1,
             "#276419"
            ]
           ],
           "sequential": [
            [
             0,
             "#0d0887"
            ],
            [
             0.1111111111111111,
             "#46039f"
            ],
            [
             0.2222222222222222,
             "#7201a8"
            ],
            [
             0.3333333333333333,
             "#9c179e"
            ],
            [
             0.4444444444444444,
             "#bd3786"
            ],
            [
             0.5555555555555556,
             "#d8576b"
            ],
            [
             0.6666666666666666,
             "#ed7953"
            ],
            [
             0.7777777777777778,
             "#fb9f3a"
            ],
            [
             0.8888888888888888,
             "#fdca26"
            ],
            [
             1,
             "#f0f921"
            ]
           ],
           "sequentialminus": [
            [
             0,
             "#0d0887"
            ],
            [
             0.1111111111111111,
             "#46039f"
            ],
            [
             0.2222222222222222,
             "#7201a8"
            ],
            [
             0.3333333333333333,
             "#9c179e"
            ],
            [
             0.4444444444444444,
             "#bd3786"
            ],
            [
             0.5555555555555556,
             "#d8576b"
            ],
            [
             0.6666666666666666,
             "#ed7953"
            ],
            [
             0.7777777777777778,
             "#fb9f3a"
            ],
            [
             0.8888888888888888,
             "#fdca26"
            ],
            [
             1,
             "#f0f921"
            ]
           ]
          },
          "colorway": [
           "#636efa",
           "#EF553B",
           "#00cc96",
           "#ab63fa",
           "#FFA15A",
           "#19d3f3",
           "#FF6692",
           "#B6E880",
           "#FF97FF",
           "#FECB52"
          ],
          "font": {
           "color": "#2a3f5f"
          },
          "geo": {
           "bgcolor": "white",
           "lakecolor": "white",
           "landcolor": "#E5ECF6",
           "showlakes": true,
           "showland": true,
           "subunitcolor": "white"
          },
          "hoverlabel": {
           "align": "left"
          },
          "hovermode": "closest",
          "mapbox": {
           "style": "light"
          },
          "paper_bgcolor": "white",
          "plot_bgcolor": "#E5ECF6",
          "polar": {
           "angularaxis": {
            "gridcolor": "white",
            "linecolor": "white",
            "ticks": ""
           },
           "bgcolor": "#E5ECF6",
           "radialaxis": {
            "gridcolor": "white",
            "linecolor": "white",
            "ticks": ""
           }
          },
          "scene": {
           "xaxis": {
            "backgroundcolor": "#E5ECF6",
            "gridcolor": "white",
            "gridwidth": 2,
            "linecolor": "white",
            "showbackground": true,
            "ticks": "",
            "zerolinecolor": "white"
           },
           "yaxis": {
            "backgroundcolor": "#E5ECF6",
            "gridcolor": "white",
            "gridwidth": 2,
            "linecolor": "white",
            "showbackground": true,
            "ticks": "",
            "zerolinecolor": "white"
           },
           "zaxis": {
            "backgroundcolor": "#E5ECF6",
            "gridcolor": "white",
            "gridwidth": 2,
            "linecolor": "white",
            "showbackground": true,
            "ticks": "",
            "zerolinecolor": "white"
           }
          },
          "shapedefaults": {
           "line": {
            "color": "#2a3f5f"
           }
          },
          "ternary": {
           "aaxis": {
            "gridcolor": "white",
            "linecolor": "white",
            "ticks": ""
           },
           "baxis": {
            "gridcolor": "white",
            "linecolor": "white",
            "ticks": ""
           },
           "bgcolor": "#E5ECF6",
           "caxis": {
            "gridcolor": "white",
            "linecolor": "white",
            "ticks": ""
           }
          },
          "title": {
           "x": 0.05
          },
          "xaxis": {
           "automargin": true,
           "gridcolor": "white",
           "linecolor": "white",
           "ticks": "",
           "title": {
            "standoff": 15
           },
           "zerolinecolor": "white",
           "zerolinewidth": 2
          },
          "yaxis": {
           "automargin": true,
           "gridcolor": "white",
           "linecolor": "white",
           "ticks": "",
           "title": {
            "standoff": 15
           },
           "zerolinecolor": "white",
           "zerolinewidth": 2
          }
         }
        },
        "title": {
         "text": "Headlength vs Age"
        },
        "xaxis": {
         "anchor": "y",
         "domain": [
          0,
          1
         ],
         "title": {
          "text": "hdlngth"
         }
        },
        "yaxis": {
         "anchor": "x",
         "domain": [
          0,
          1
         ],
         "title": {
          "text": "age"
         }
        }
       }
      }
     },
     "metadata": {},
     "output_type": "display_data"
    }
   ],
   "source": [
    "fig = px.scatter(df, x=\"hdlngth\", y=\"age\", color=\"age\",trendline=\"ols\", title=\"Headlength vs Age\")\n",
    "fig.show()"
   ]
  },
  {
   "cell_type": "code",
   "execution_count": 194,
   "metadata": {},
   "outputs": [
    {
     "data": {
      "application/vnd.plotly.v1+json": {
       "config": {
        "plotlyServerURL": "https://plot.ly"
       },
       "data": [
        {
         "alignmentgroup": "True",
         "boxpoints": "all",
         "hovertemplate": "sex=2<br>Pop=%{x}<br>hdlngth=%{y}<extra></extra>",
         "legendgroup": "2",
         "marker": {
          "color": "#636efa"
         },
         "name": "2",
         "notched": false,
         "offsetgroup": "2",
         "orientation": "v",
         "showlegend": true,
         "type": "box",
         "x": [
          1,
          1,
          1,
          1,
          1,
          1,
          1,
          1,
          1,
          1,
          1,
          1,
          1,
          1,
          1,
          1,
          1,
          1,
          1,
          1,
          1,
          1,
          2,
          2,
          2,
          2,
          2,
          2,
          2,
          2,
          2,
          2,
          2,
          2,
          2,
          2,
          2,
          2,
          2,
          2,
          2,
          2,
          2,
          2,
          2,
          2,
          2,
          2,
          2,
          2,
          2,
          2,
          2,
          2,
          2,
          2,
          2,
          2,
          2,
          2,
          2
         ],
         "x0": " ",
         "xaxis": "x",
         "y": [
          94.1,
          95.3,
          95.1,
          95.4,
          92.9,
          91.6,
          93.5,
          96.3,
          94.4,
          95.8,
          96,
          93.8,
          92.8,
          91.4,
          90.6,
          94.4,
          93.3,
          92.4,
          85.3,
          85.1,
          90.7,
          91.4,
          90.1,
          98.6,
          95.4,
          97.6,
          96.9,
          103.1,
          99.9,
          94.5,
          102.5,
          95.7,
          93.3,
          94.1,
          98,
          92.8,
          85.9,
          82.5,
          93.8,
          92.4,
          93.6,
          86.5,
          85.8,
          86.7,
          90.6,
          88.4,
          89.5,
          98.5,
          97.7,
          92.6,
          97.8,
          90.7,
          89.2,
          91.8,
          91.6,
          94.8,
          91,
          93.2,
          89.5,
          88.6,
          91.5
         ],
         "y0": " ",
         "yaxis": "y"
        },
        {
         "alignmentgroup": "True",
         "boxpoints": "all",
         "hovertemplate": "sex=1<br>Pop=%{x}<br>hdlngth=%{y}<extra></extra>",
         "legendgroup": "1",
         "marker": {
          "color": "#EF553B"
         },
         "name": "1",
         "notched": false,
         "offsetgroup": "1",
         "orientation": "v",
         "showlegend": true,
         "type": "box",
         "x": [
          1,
          1,
          1,
          1,
          1,
          1,
          1,
          1,
          1,
          1,
          1,
          1,
          1,
          1,
          1,
          1,
          1,
          1,
          1,
          1,
          1,
          1,
          1,
          1,
          2,
          2,
          2,
          2,
          2,
          2,
          2,
          2,
          2,
          2,
          2,
          2,
          2,
          2,
          2,
          2,
          2,
          2,
          2
         ],
         "x0": " ",
         "xaxis": "x",
         "y": [
          92.5,
          94,
          93.2,
          91.5,
          93.1,
          94.8,
          93.4,
          91.8,
          93.3,
          94.9,
          94.7,
          94.4,
          94.8,
          95.9,
          92.5,
          90.5,
          92.8,
          92.1,
          94.3,
          89.3,
          84.7,
          91,
          88.4,
          90,
          91.6,
          95.6,
          93.1,
          95.1,
          91.3,
          91.3,
          92,
          96.9,
          93.5,
          90.4,
          91.9,
          88.7,
          86,
          90,
          88.2,
          89.6,
          93.3,
          92.4,
          93.6
         ],
         "y0": " ",
         "yaxis": "y"
        }
       ],
       "layout": {
        "boxmode": "group",
        "legend": {
         "title": {
          "text": "sex"
         },
         "tracegroupgap": 0
        },
        "template": {
         "data": {
          "bar": [
           {
            "error_x": {
             "color": "#2a3f5f"
            },
            "error_y": {
             "color": "#2a3f5f"
            },
            "marker": {
             "line": {
              "color": "#E5ECF6",
              "width": 0.5
             },
             "pattern": {
              "fillmode": "overlay",
              "size": 10,
              "solidity": 0.2
             }
            },
            "type": "bar"
           }
          ],
          "barpolar": [
           {
            "marker": {
             "line": {
              "color": "#E5ECF6",
              "width": 0.5
             },
             "pattern": {
              "fillmode": "overlay",
              "size": 10,
              "solidity": 0.2
             }
            },
            "type": "barpolar"
           }
          ],
          "carpet": [
           {
            "aaxis": {
             "endlinecolor": "#2a3f5f",
             "gridcolor": "white",
             "linecolor": "white",
             "minorgridcolor": "white",
             "startlinecolor": "#2a3f5f"
            },
            "baxis": {
             "endlinecolor": "#2a3f5f",
             "gridcolor": "white",
             "linecolor": "white",
             "minorgridcolor": "white",
             "startlinecolor": "#2a3f5f"
            },
            "type": "carpet"
           }
          ],
          "choropleth": [
           {
            "colorbar": {
             "outlinewidth": 0,
             "ticks": ""
            },
            "type": "choropleth"
           }
          ],
          "contour": [
           {
            "colorbar": {
             "outlinewidth": 0,
             "ticks": ""
            },
            "colorscale": [
             [
              0,
              "#0d0887"
             ],
             [
              0.1111111111111111,
              "#46039f"
             ],
             [
              0.2222222222222222,
              "#7201a8"
             ],
             [
              0.3333333333333333,
              "#9c179e"
             ],
             [
              0.4444444444444444,
              "#bd3786"
             ],
             [
              0.5555555555555556,
              "#d8576b"
             ],
             [
              0.6666666666666666,
              "#ed7953"
             ],
             [
              0.7777777777777778,
              "#fb9f3a"
             ],
             [
              0.8888888888888888,
              "#fdca26"
             ],
             [
              1,
              "#f0f921"
             ]
            ],
            "type": "contour"
           }
          ],
          "contourcarpet": [
           {
            "colorbar": {
             "outlinewidth": 0,
             "ticks": ""
            },
            "type": "contourcarpet"
           }
          ],
          "heatmap": [
           {
            "colorbar": {
             "outlinewidth": 0,
             "ticks": ""
            },
            "colorscale": [
             [
              0,
              "#0d0887"
             ],
             [
              0.1111111111111111,
              "#46039f"
             ],
             [
              0.2222222222222222,
              "#7201a8"
             ],
             [
              0.3333333333333333,
              "#9c179e"
             ],
             [
              0.4444444444444444,
              "#bd3786"
             ],
             [
              0.5555555555555556,
              "#d8576b"
             ],
             [
              0.6666666666666666,
              "#ed7953"
             ],
             [
              0.7777777777777778,
              "#fb9f3a"
             ],
             [
              0.8888888888888888,
              "#fdca26"
             ],
             [
              1,
              "#f0f921"
             ]
            ],
            "type": "heatmap"
           }
          ],
          "heatmapgl": [
           {
            "colorbar": {
             "outlinewidth": 0,
             "ticks": ""
            },
            "colorscale": [
             [
              0,
              "#0d0887"
             ],
             [
              0.1111111111111111,
              "#46039f"
             ],
             [
              0.2222222222222222,
              "#7201a8"
             ],
             [
              0.3333333333333333,
              "#9c179e"
             ],
             [
              0.4444444444444444,
              "#bd3786"
             ],
             [
              0.5555555555555556,
              "#d8576b"
             ],
             [
              0.6666666666666666,
              "#ed7953"
             ],
             [
              0.7777777777777778,
              "#fb9f3a"
             ],
             [
              0.8888888888888888,
              "#fdca26"
             ],
             [
              1,
              "#f0f921"
             ]
            ],
            "type": "heatmapgl"
           }
          ],
          "histogram": [
           {
            "marker": {
             "pattern": {
              "fillmode": "overlay",
              "size": 10,
              "solidity": 0.2
             }
            },
            "type": "histogram"
           }
          ],
          "histogram2d": [
           {
            "colorbar": {
             "outlinewidth": 0,
             "ticks": ""
            },
            "colorscale": [
             [
              0,
              "#0d0887"
             ],
             [
              0.1111111111111111,
              "#46039f"
             ],
             [
              0.2222222222222222,
              "#7201a8"
             ],
             [
              0.3333333333333333,
              "#9c179e"
             ],
             [
              0.4444444444444444,
              "#bd3786"
             ],
             [
              0.5555555555555556,
              "#d8576b"
             ],
             [
              0.6666666666666666,
              "#ed7953"
             ],
             [
              0.7777777777777778,
              "#fb9f3a"
             ],
             [
              0.8888888888888888,
              "#fdca26"
             ],
             [
              1,
              "#f0f921"
             ]
            ],
            "type": "histogram2d"
           }
          ],
          "histogram2dcontour": [
           {
            "colorbar": {
             "outlinewidth": 0,
             "ticks": ""
            },
            "colorscale": [
             [
              0,
              "#0d0887"
             ],
             [
              0.1111111111111111,
              "#46039f"
             ],
             [
              0.2222222222222222,
              "#7201a8"
             ],
             [
              0.3333333333333333,
              "#9c179e"
             ],
             [
              0.4444444444444444,
              "#bd3786"
             ],
             [
              0.5555555555555556,
              "#d8576b"
             ],
             [
              0.6666666666666666,
              "#ed7953"
             ],
             [
              0.7777777777777778,
              "#fb9f3a"
             ],
             [
              0.8888888888888888,
              "#fdca26"
             ],
             [
              1,
              "#f0f921"
             ]
            ],
            "type": "histogram2dcontour"
           }
          ],
          "mesh3d": [
           {
            "colorbar": {
             "outlinewidth": 0,
             "ticks": ""
            },
            "type": "mesh3d"
           }
          ],
          "parcoords": [
           {
            "line": {
             "colorbar": {
              "outlinewidth": 0,
              "ticks": ""
             }
            },
            "type": "parcoords"
           }
          ],
          "pie": [
           {
            "automargin": true,
            "type": "pie"
           }
          ],
          "scatter": [
           {
            "fillpattern": {
             "fillmode": "overlay",
             "size": 10,
             "solidity": 0.2
            },
            "type": "scatter"
           }
          ],
          "scatter3d": [
           {
            "line": {
             "colorbar": {
              "outlinewidth": 0,
              "ticks": ""
             }
            },
            "marker": {
             "colorbar": {
              "outlinewidth": 0,
              "ticks": ""
             }
            },
            "type": "scatter3d"
           }
          ],
          "scattercarpet": [
           {
            "marker": {
             "colorbar": {
              "outlinewidth": 0,
              "ticks": ""
             }
            },
            "type": "scattercarpet"
           }
          ],
          "scattergeo": [
           {
            "marker": {
             "colorbar": {
              "outlinewidth": 0,
              "ticks": ""
             }
            },
            "type": "scattergeo"
           }
          ],
          "scattergl": [
           {
            "marker": {
             "colorbar": {
              "outlinewidth": 0,
              "ticks": ""
             }
            },
            "type": "scattergl"
           }
          ],
          "scattermapbox": [
           {
            "marker": {
             "colorbar": {
              "outlinewidth": 0,
              "ticks": ""
             }
            },
            "type": "scattermapbox"
           }
          ],
          "scatterpolar": [
           {
            "marker": {
             "colorbar": {
              "outlinewidth": 0,
              "ticks": ""
             }
            },
            "type": "scatterpolar"
           }
          ],
          "scatterpolargl": [
           {
            "marker": {
             "colorbar": {
              "outlinewidth": 0,
              "ticks": ""
             }
            },
            "type": "scatterpolargl"
           }
          ],
          "scatterternary": [
           {
            "marker": {
             "colorbar": {
              "outlinewidth": 0,
              "ticks": ""
             }
            },
            "type": "scatterternary"
           }
          ],
          "surface": [
           {
            "colorbar": {
             "outlinewidth": 0,
             "ticks": ""
            },
            "colorscale": [
             [
              0,
              "#0d0887"
             ],
             [
              0.1111111111111111,
              "#46039f"
             ],
             [
              0.2222222222222222,
              "#7201a8"
             ],
             [
              0.3333333333333333,
              "#9c179e"
             ],
             [
              0.4444444444444444,
              "#bd3786"
             ],
             [
              0.5555555555555556,
              "#d8576b"
             ],
             [
              0.6666666666666666,
              "#ed7953"
             ],
             [
              0.7777777777777778,
              "#fb9f3a"
             ],
             [
              0.8888888888888888,
              "#fdca26"
             ],
             [
              1,
              "#f0f921"
             ]
            ],
            "type": "surface"
           }
          ],
          "table": [
           {
            "cells": {
             "fill": {
              "color": "#EBF0F8"
             },
             "line": {
              "color": "white"
             }
            },
            "header": {
             "fill": {
              "color": "#C8D4E3"
             },
             "line": {
              "color": "white"
             }
            },
            "type": "table"
           }
          ]
         },
         "layout": {
          "annotationdefaults": {
           "arrowcolor": "#2a3f5f",
           "arrowhead": 0,
           "arrowwidth": 1
          },
          "autotypenumbers": "strict",
          "coloraxis": {
           "colorbar": {
            "outlinewidth": 0,
            "ticks": ""
           }
          },
          "colorscale": {
           "diverging": [
            [
             0,
             "#8e0152"
            ],
            [
             0.1,
             "#c51b7d"
            ],
            [
             0.2,
             "#de77ae"
            ],
            [
             0.3,
             "#f1b6da"
            ],
            [
             0.4,
             "#fde0ef"
            ],
            [
             0.5,
             "#f7f7f7"
            ],
            [
             0.6,
             "#e6f5d0"
            ],
            [
             0.7,
             "#b8e186"
            ],
            [
             0.8,
             "#7fbc41"
            ],
            [
             0.9,
             "#4d9221"
            ],
            [
             1,
             "#276419"
            ]
           ],
           "sequential": [
            [
             0,
             "#0d0887"
            ],
            [
             0.1111111111111111,
             "#46039f"
            ],
            [
             0.2222222222222222,
             "#7201a8"
            ],
            [
             0.3333333333333333,
             "#9c179e"
            ],
            [
             0.4444444444444444,
             "#bd3786"
            ],
            [
             0.5555555555555556,
             "#d8576b"
            ],
            [
             0.6666666666666666,
             "#ed7953"
            ],
            [
             0.7777777777777778,
             "#fb9f3a"
            ],
            [
             0.8888888888888888,
             "#fdca26"
            ],
            [
             1,
             "#f0f921"
            ]
           ],
           "sequentialminus": [
            [
             0,
             "#0d0887"
            ],
            [
             0.1111111111111111,
             "#46039f"
            ],
            [
             0.2222222222222222,
             "#7201a8"
            ],
            [
             0.3333333333333333,
             "#9c179e"
            ],
            [
             0.4444444444444444,
             "#bd3786"
            ],
            [
             0.5555555555555556,
             "#d8576b"
            ],
            [
             0.6666666666666666,
             "#ed7953"
            ],
            [
             0.7777777777777778,
             "#fb9f3a"
            ],
            [
             0.8888888888888888,
             "#fdca26"
            ],
            [
             1,
             "#f0f921"
            ]
           ]
          },
          "colorway": [
           "#636efa",
           "#EF553B",
           "#00cc96",
           "#ab63fa",
           "#FFA15A",
           "#19d3f3",
           "#FF6692",
           "#B6E880",
           "#FF97FF",
           "#FECB52"
          ],
          "font": {
           "color": "#2a3f5f"
          },
          "geo": {
           "bgcolor": "white",
           "lakecolor": "white",
           "landcolor": "#E5ECF6",
           "showlakes": true,
           "showland": true,
           "subunitcolor": "white"
          },
          "hoverlabel": {
           "align": "left"
          },
          "hovermode": "closest",
          "mapbox": {
           "style": "light"
          },
          "paper_bgcolor": "white",
          "plot_bgcolor": "#E5ECF6",
          "polar": {
           "angularaxis": {
            "gridcolor": "white",
            "linecolor": "white",
            "ticks": ""
           },
           "bgcolor": "#E5ECF6",
           "radialaxis": {
            "gridcolor": "white",
            "linecolor": "white",
            "ticks": ""
           }
          },
          "scene": {
           "xaxis": {
            "backgroundcolor": "#E5ECF6",
            "gridcolor": "white",
            "gridwidth": 2,
            "linecolor": "white",
            "showbackground": true,
            "ticks": "",
            "zerolinecolor": "white"
           },
           "yaxis": {
            "backgroundcolor": "#E5ECF6",
            "gridcolor": "white",
            "gridwidth": 2,
            "linecolor": "white",
            "showbackground": true,
            "ticks": "",
            "zerolinecolor": "white"
           },
           "zaxis": {
            "backgroundcolor": "#E5ECF6",
            "gridcolor": "white",
            "gridwidth": 2,
            "linecolor": "white",
            "showbackground": true,
            "ticks": "",
            "zerolinecolor": "white"
           }
          },
          "shapedefaults": {
           "line": {
            "color": "#2a3f5f"
           }
          },
          "ternary": {
           "aaxis": {
            "gridcolor": "white",
            "linecolor": "white",
            "ticks": ""
           },
           "baxis": {
            "gridcolor": "white",
            "linecolor": "white",
            "ticks": ""
           },
           "bgcolor": "#E5ECF6",
           "caxis": {
            "gridcolor": "white",
            "linecolor": "white",
            "ticks": ""
           }
          },
          "title": {
           "x": 0.05
          },
          "xaxis": {
           "automargin": true,
           "gridcolor": "white",
           "linecolor": "white",
           "ticks": "",
           "title": {
            "standoff": 15
           },
           "zerolinecolor": "white",
           "zerolinewidth": 2
          },
          "yaxis": {
           "automargin": true,
           "gridcolor": "white",
           "linecolor": "white",
           "ticks": "",
           "title": {
            "standoff": 15
           },
           "zerolinecolor": "white",
           "zerolinewidth": 2
          }
         }
        },
        "title": {
         "text": "Headlength vs Population"
        },
        "xaxis": {
         "anchor": "y",
         "domain": [
          0,
          1
         ],
         "title": {
          "text": "Pop"
         }
        },
        "yaxis": {
         "anchor": "x",
         "domain": [
          0,
          1
         ],
         "title": {
          "text": "hdlngth"
         }
        }
       }
      }
     },
     "metadata": {},
     "output_type": "display_data"
    }
   ],
   "source": [
    "fig = px.box(df, x=\"Pop\", y=\"hdlngth\", points=\"all\", color=\"sex\", title=\"Headlength vs Population\")\n",
    "fig.show()"
   ]
  },
  {
   "cell_type": "markdown",
   "metadata": {},
   "source": [
    "**************"
   ]
  },
  {
   "cell_type": "code",
   "execution_count": 195,
   "metadata": {},
   "outputs": [
    {
     "data": {
      "text/html": [
       "<div>\n",
       "<style scoped>\n",
       "    .dataframe tbody tr th:only-of-type {\n",
       "        vertical-align: middle;\n",
       "    }\n",
       "\n",
       "    .dataframe tbody tr th {\n",
       "        vertical-align: top;\n",
       "    }\n",
       "\n",
       "    .dataframe thead th {\n",
       "        text-align: right;\n",
       "    }\n",
       "</style>\n",
       "<table border=\"1\" class=\"dataframe\">\n",
       "  <thead>\n",
       "    <tr style=\"text-align: right;\">\n",
       "      <th></th>\n",
       "      <th>site</th>\n",
       "      <th>Pop</th>\n",
       "      <th>sex</th>\n",
       "      <th>age</th>\n",
       "      <th>hdlngth</th>\n",
       "      <th>skullw</th>\n",
       "      <th>totlngth</th>\n",
       "      <th>taill</th>\n",
       "      <th>footlgth</th>\n",
       "      <th>earconch</th>\n",
       "      <th>eye</th>\n",
       "      <th>chest</th>\n",
       "      <th>belly</th>\n",
       "    </tr>\n",
       "  </thead>\n",
       "  <tbody>\n",
       "    <tr>\n",
       "      <th>0</th>\n",
       "      <td>1</td>\n",
       "      <td>1</td>\n",
       "      <td>2</td>\n",
       "      <td>8.0</td>\n",
       "      <td>94.1</td>\n",
       "      <td>60.4</td>\n",
       "      <td>89.0</td>\n",
       "      <td>36.0</td>\n",
       "      <td>74.5</td>\n",
       "      <td>54.5</td>\n",
       "      <td>15.2</td>\n",
       "      <td>28.0</td>\n",
       "      <td>36.0</td>\n",
       "    </tr>\n",
       "    <tr>\n",
       "      <th>1</th>\n",
       "      <td>1</td>\n",
       "      <td>1</td>\n",
       "      <td>1</td>\n",
       "      <td>6.0</td>\n",
       "      <td>92.5</td>\n",
       "      <td>57.6</td>\n",
       "      <td>91.5</td>\n",
       "      <td>36.5</td>\n",
       "      <td>72.5</td>\n",
       "      <td>51.2</td>\n",
       "      <td>16.0</td>\n",
       "      <td>28.5</td>\n",
       "      <td>33.0</td>\n",
       "    </tr>\n",
       "    <tr>\n",
       "      <th>2</th>\n",
       "      <td>1</td>\n",
       "      <td>1</td>\n",
       "      <td>1</td>\n",
       "      <td>6.0</td>\n",
       "      <td>94.0</td>\n",
       "      <td>60.0</td>\n",
       "      <td>95.5</td>\n",
       "      <td>39.0</td>\n",
       "      <td>75.4</td>\n",
       "      <td>51.9</td>\n",
       "      <td>15.5</td>\n",
       "      <td>30.0</td>\n",
       "      <td>34.0</td>\n",
       "    </tr>\n",
       "    <tr>\n",
       "      <th>3</th>\n",
       "      <td>1</td>\n",
       "      <td>1</td>\n",
       "      <td>1</td>\n",
       "      <td>6.0</td>\n",
       "      <td>93.2</td>\n",
       "      <td>57.1</td>\n",
       "      <td>92.0</td>\n",
       "      <td>38.0</td>\n",
       "      <td>76.1</td>\n",
       "      <td>52.2</td>\n",
       "      <td>15.2</td>\n",
       "      <td>28.0</td>\n",
       "      <td>34.0</td>\n",
       "    </tr>\n",
       "    <tr>\n",
       "      <th>4</th>\n",
       "      <td>1</td>\n",
       "      <td>1</td>\n",
       "      <td>1</td>\n",
       "      <td>2.0</td>\n",
       "      <td>91.5</td>\n",
       "      <td>56.3</td>\n",
       "      <td>85.5</td>\n",
       "      <td>36.0</td>\n",
       "      <td>71.0</td>\n",
       "      <td>53.2</td>\n",
       "      <td>15.1</td>\n",
       "      <td>28.5</td>\n",
       "      <td>33.0</td>\n",
       "    </tr>\n",
       "    <tr>\n",
       "      <th>...</th>\n",
       "      <td>...</td>\n",
       "      <td>...</td>\n",
       "      <td>...</td>\n",
       "      <td>...</td>\n",
       "      <td>...</td>\n",
       "      <td>...</td>\n",
       "      <td>...</td>\n",
       "      <td>...</td>\n",
       "      <td>...</td>\n",
       "      <td>...</td>\n",
       "      <td>...</td>\n",
       "      <td>...</td>\n",
       "      <td>...</td>\n",
       "    </tr>\n",
       "    <tr>\n",
       "      <th>99</th>\n",
       "      <td>7</td>\n",
       "      <td>2</td>\n",
       "      <td>2</td>\n",
       "      <td>1.0</td>\n",
       "      <td>89.5</td>\n",
       "      <td>56.0</td>\n",
       "      <td>81.5</td>\n",
       "      <td>36.5</td>\n",
       "      <td>66.0</td>\n",
       "      <td>46.8</td>\n",
       "      <td>14.8</td>\n",
       "      <td>23.0</td>\n",
       "      <td>27.0</td>\n",
       "    </tr>\n",
       "    <tr>\n",
       "      <th>100</th>\n",
       "      <td>7</td>\n",
       "      <td>2</td>\n",
       "      <td>2</td>\n",
       "      <td>1.0</td>\n",
       "      <td>88.6</td>\n",
       "      <td>54.7</td>\n",
       "      <td>82.5</td>\n",
       "      <td>39.0</td>\n",
       "      <td>64.4</td>\n",
       "      <td>48.0</td>\n",
       "      <td>14.0</td>\n",
       "      <td>25.0</td>\n",
       "      <td>33.0</td>\n",
       "    </tr>\n",
       "    <tr>\n",
       "      <th>101</th>\n",
       "      <td>7</td>\n",
       "      <td>2</td>\n",
       "      <td>1</td>\n",
       "      <td>6.0</td>\n",
       "      <td>92.4</td>\n",
       "      <td>55.0</td>\n",
       "      <td>89.0</td>\n",
       "      <td>38.0</td>\n",
       "      <td>63.5</td>\n",
       "      <td>45.4</td>\n",
       "      <td>13.0</td>\n",
       "      <td>25.0</td>\n",
       "      <td>30.0</td>\n",
       "    </tr>\n",
       "    <tr>\n",
       "      <th>102</th>\n",
       "      <td>7</td>\n",
       "      <td>2</td>\n",
       "      <td>2</td>\n",
       "      <td>4.0</td>\n",
       "      <td>91.5</td>\n",
       "      <td>55.2</td>\n",
       "      <td>82.5</td>\n",
       "      <td>36.5</td>\n",
       "      <td>62.9</td>\n",
       "      <td>45.9</td>\n",
       "      <td>15.4</td>\n",
       "      <td>25.0</td>\n",
       "      <td>29.0</td>\n",
       "    </tr>\n",
       "    <tr>\n",
       "      <th>103</th>\n",
       "      <td>7</td>\n",
       "      <td>2</td>\n",
       "      <td>1</td>\n",
       "      <td>3.0</td>\n",
       "      <td>93.6</td>\n",
       "      <td>59.9</td>\n",
       "      <td>89.0</td>\n",
       "      <td>40.0</td>\n",
       "      <td>67.6</td>\n",
       "      <td>46.0</td>\n",
       "      <td>14.8</td>\n",
       "      <td>28.5</td>\n",
       "      <td>33.5</td>\n",
       "    </tr>\n",
       "  </tbody>\n",
       "</table>\n",
       "<p>104 rows × 13 columns</p>\n",
       "</div>"
      ],
      "text/plain": [
       "     site  Pop  sex  age  hdlngth  skullw  totlngth  taill  footlgth  \\\n",
       "0       1    1    2  8.0     94.1    60.4      89.0   36.0      74.5   \n",
       "1       1    1    1  6.0     92.5    57.6      91.5   36.5      72.5   \n",
       "2       1    1    1  6.0     94.0    60.0      95.5   39.0      75.4   \n",
       "3       1    1    1  6.0     93.2    57.1      92.0   38.0      76.1   \n",
       "4       1    1    1  2.0     91.5    56.3      85.5   36.0      71.0   \n",
       "..    ...  ...  ...  ...      ...     ...       ...    ...       ...   \n",
       "99      7    2    2  1.0     89.5    56.0      81.5   36.5      66.0   \n",
       "100     7    2    2  1.0     88.6    54.7      82.5   39.0      64.4   \n",
       "101     7    2    1  6.0     92.4    55.0      89.0   38.0      63.5   \n",
       "102     7    2    2  4.0     91.5    55.2      82.5   36.5      62.9   \n",
       "103     7    2    1  3.0     93.6    59.9      89.0   40.0      67.6   \n",
       "\n",
       "     earconch   eye  chest  belly  \n",
       "0        54.5  15.2   28.0   36.0  \n",
       "1        51.2  16.0   28.5   33.0  \n",
       "2        51.9  15.5   30.0   34.0  \n",
       "3        52.2  15.2   28.0   34.0  \n",
       "4        53.2  15.1   28.5   33.0  \n",
       "..        ...   ...    ...    ...  \n",
       "99       46.8  14.8   23.0   27.0  \n",
       "100      48.0  14.0   25.0   33.0  \n",
       "101      45.4  13.0   25.0   30.0  \n",
       "102      45.9  15.4   25.0   29.0  \n",
       "103      46.0  14.8   28.5   33.5  \n",
       "\n",
       "[104 rows x 13 columns]"
      ]
     },
     "execution_count": 195,
     "metadata": {},
     "output_type": "execute_result"
    }
   ],
   "source": [
    "df"
   ]
  },
  {
   "cell_type": "markdown",
   "metadata": {},
   "source": [
    "****************"
   ]
  },
  {
   "cell_type": "markdown",
   "metadata": {},
   "source": [
    "* OUTLIERS"
   ]
  },
  {
   "cell_type": "code",
   "execution_count": 196,
   "metadata": {},
   "outputs": [],
   "source": [
    "#vamos a usar zscores para ver si hay outliers en nuestras columnas\n",
    "from scipy.stats import zscore\n",
    "\n",
    "\n",
    "def detectar_outlierscol(df):\n",
    "    z_scores = zscore(df)\n",
    "    abs_z_scores = np.abs(z_scores)\n",
    "    return (abs_z_scores > 3) | (abs_z_scores < -3)"
   ]
  },
  {
   "cell_type": "code",
   "execution_count": 197,
   "metadata": {},
   "outputs": [],
   "source": [
    "# #vamos a encodear nuestros datos, otra forma, previamente ya habíamos transformado. \n",
    "# from sklearn.preprocessing import LabelEncoder\n",
    "\n",
    "# le = LabelEncoder()\n",
    "\n",
    "# def encodear(df):\n",
    "#     for col in df.columns:\n",
    "#         if df[col].dtype == 'object':\n",
    "#             df[col] = le.fit_transform(df[col])\n",
    "#     return df\n",
    "\n",
    "# df = encodear(df)"
   ]
  },
  {
   "cell_type": "code",
   "execution_count": 198,
   "metadata": {},
   "outputs": [
    {
     "data": {
      "text/html": [
       "<div>\n",
       "<style scoped>\n",
       "    .dataframe tbody tr th:only-of-type {\n",
       "        vertical-align: middle;\n",
       "    }\n",
       "\n",
       "    .dataframe tbody tr th {\n",
       "        vertical-align: top;\n",
       "    }\n",
       "\n",
       "    .dataframe thead th {\n",
       "        text-align: right;\n",
       "    }\n",
       "</style>\n",
       "<table border=\"1\" class=\"dataframe\">\n",
       "  <thead>\n",
       "    <tr style=\"text-align: right;\">\n",
       "      <th></th>\n",
       "      <th>site</th>\n",
       "      <th>Pop</th>\n",
       "      <th>sex</th>\n",
       "      <th>age</th>\n",
       "      <th>hdlngth</th>\n",
       "      <th>skullw</th>\n",
       "      <th>totlngth</th>\n",
       "      <th>taill</th>\n",
       "      <th>footlgth</th>\n",
       "      <th>earconch</th>\n",
       "      <th>eye</th>\n",
       "      <th>chest</th>\n",
       "      <th>belly</th>\n",
       "    </tr>\n",
       "  </thead>\n",
       "  <tbody>\n",
       "    <tr>\n",
       "      <th>0</th>\n",
       "      <td>False</td>\n",
       "      <td>False</td>\n",
       "      <td>False</td>\n",
       "      <td>False</td>\n",
       "      <td>False</td>\n",
       "      <td>False</td>\n",
       "      <td>False</td>\n",
       "      <td>False</td>\n",
       "      <td>False</td>\n",
       "      <td>False</td>\n",
       "      <td>False</td>\n",
       "      <td>False</td>\n",
       "      <td>False</td>\n",
       "    </tr>\n",
       "    <tr>\n",
       "      <th>1</th>\n",
       "      <td>False</td>\n",
       "      <td>False</td>\n",
       "      <td>False</td>\n",
       "      <td>False</td>\n",
       "      <td>False</td>\n",
       "      <td>False</td>\n",
       "      <td>False</td>\n",
       "      <td>False</td>\n",
       "      <td>False</td>\n",
       "      <td>False</td>\n",
       "      <td>False</td>\n",
       "      <td>False</td>\n",
       "      <td>False</td>\n",
       "    </tr>\n",
       "    <tr>\n",
       "      <th>2</th>\n",
       "      <td>False</td>\n",
       "      <td>False</td>\n",
       "      <td>False</td>\n",
       "      <td>False</td>\n",
       "      <td>False</td>\n",
       "      <td>False</td>\n",
       "      <td>False</td>\n",
       "      <td>False</td>\n",
       "      <td>False</td>\n",
       "      <td>False</td>\n",
       "      <td>False</td>\n",
       "      <td>False</td>\n",
       "      <td>False</td>\n",
       "    </tr>\n",
       "    <tr>\n",
       "      <th>3</th>\n",
       "      <td>False</td>\n",
       "      <td>False</td>\n",
       "      <td>False</td>\n",
       "      <td>False</td>\n",
       "      <td>False</td>\n",
       "      <td>False</td>\n",
       "      <td>False</td>\n",
       "      <td>False</td>\n",
       "      <td>False</td>\n",
       "      <td>False</td>\n",
       "      <td>False</td>\n",
       "      <td>False</td>\n",
       "      <td>False</td>\n",
       "    </tr>\n",
       "    <tr>\n",
       "      <th>4</th>\n",
       "      <td>False</td>\n",
       "      <td>False</td>\n",
       "      <td>False</td>\n",
       "      <td>False</td>\n",
       "      <td>False</td>\n",
       "      <td>False</td>\n",
       "      <td>False</td>\n",
       "      <td>False</td>\n",
       "      <td>False</td>\n",
       "      <td>False</td>\n",
       "      <td>False</td>\n",
       "      <td>False</td>\n",
       "      <td>False</td>\n",
       "    </tr>\n",
       "    <tr>\n",
       "      <th>...</th>\n",
       "      <td>...</td>\n",
       "      <td>...</td>\n",
       "      <td>...</td>\n",
       "      <td>...</td>\n",
       "      <td>...</td>\n",
       "      <td>...</td>\n",
       "      <td>...</td>\n",
       "      <td>...</td>\n",
       "      <td>...</td>\n",
       "      <td>...</td>\n",
       "      <td>...</td>\n",
       "      <td>...</td>\n",
       "      <td>...</td>\n",
       "    </tr>\n",
       "    <tr>\n",
       "      <th>99</th>\n",
       "      <td>False</td>\n",
       "      <td>False</td>\n",
       "      <td>False</td>\n",
       "      <td>False</td>\n",
       "      <td>False</td>\n",
       "      <td>False</td>\n",
       "      <td>False</td>\n",
       "      <td>False</td>\n",
       "      <td>False</td>\n",
       "      <td>False</td>\n",
       "      <td>False</td>\n",
       "      <td>False</td>\n",
       "      <td>False</td>\n",
       "    </tr>\n",
       "    <tr>\n",
       "      <th>100</th>\n",
       "      <td>False</td>\n",
       "      <td>False</td>\n",
       "      <td>False</td>\n",
       "      <td>False</td>\n",
       "      <td>False</td>\n",
       "      <td>False</td>\n",
       "      <td>False</td>\n",
       "      <td>False</td>\n",
       "      <td>False</td>\n",
       "      <td>False</td>\n",
       "      <td>False</td>\n",
       "      <td>False</td>\n",
       "      <td>False</td>\n",
       "    </tr>\n",
       "    <tr>\n",
       "      <th>101</th>\n",
       "      <td>False</td>\n",
       "      <td>False</td>\n",
       "      <td>False</td>\n",
       "      <td>False</td>\n",
       "      <td>False</td>\n",
       "      <td>False</td>\n",
       "      <td>False</td>\n",
       "      <td>False</td>\n",
       "      <td>False</td>\n",
       "      <td>False</td>\n",
       "      <td>False</td>\n",
       "      <td>False</td>\n",
       "      <td>False</td>\n",
       "    </tr>\n",
       "    <tr>\n",
       "      <th>102</th>\n",
       "      <td>False</td>\n",
       "      <td>False</td>\n",
       "      <td>False</td>\n",
       "      <td>False</td>\n",
       "      <td>False</td>\n",
       "      <td>False</td>\n",
       "      <td>False</td>\n",
       "      <td>False</td>\n",
       "      <td>False</td>\n",
       "      <td>False</td>\n",
       "      <td>False</td>\n",
       "      <td>False</td>\n",
       "      <td>False</td>\n",
       "    </tr>\n",
       "    <tr>\n",
       "      <th>103</th>\n",
       "      <td>False</td>\n",
       "      <td>False</td>\n",
       "      <td>False</td>\n",
       "      <td>False</td>\n",
       "      <td>False</td>\n",
       "      <td>False</td>\n",
       "      <td>False</td>\n",
       "      <td>False</td>\n",
       "      <td>False</td>\n",
       "      <td>False</td>\n",
       "      <td>False</td>\n",
       "      <td>False</td>\n",
       "      <td>False</td>\n",
       "    </tr>\n",
       "  </tbody>\n",
       "</table>\n",
       "<p>104 rows × 13 columns</p>\n",
       "</div>"
      ],
      "text/plain": [
       "      site    Pop    sex    age  hdlngth  skullw  totlngth  taill  footlgth  \\\n",
       "0    False  False  False  False    False   False     False  False     False   \n",
       "1    False  False  False  False    False   False     False  False     False   \n",
       "2    False  False  False  False    False   False     False  False     False   \n",
       "3    False  False  False  False    False   False     False  False     False   \n",
       "4    False  False  False  False    False   False     False  False     False   \n",
       "..     ...    ...    ...    ...      ...     ...       ...    ...       ...   \n",
       "99   False  False  False  False    False   False     False  False     False   \n",
       "100  False  False  False  False    False   False     False  False     False   \n",
       "101  False  False  False  False    False   False     False  False     False   \n",
       "102  False  False  False  False    False   False     False  False     False   \n",
       "103  False  False  False  False    False   False     False  False     False   \n",
       "\n",
       "     earconch    eye  chest  belly  \n",
       "0       False  False  False  False  \n",
       "1       False  False  False  False  \n",
       "2       False  False  False  False  \n",
       "3       False  False  False  False  \n",
       "4       False  False  False  False  \n",
       "..        ...    ...    ...    ...  \n",
       "99      False  False  False  False  \n",
       "100     False  False  False  False  \n",
       "101     False  False  False  False  \n",
       "102     False  False  False  False  \n",
       "103     False  False  False  False  \n",
       "\n",
       "[104 rows x 13 columns]"
      ]
     },
     "execution_count": 198,
     "metadata": {},
     "output_type": "execute_result"
    }
   ],
   "source": [
    "detectar_outlierscol(df)"
   ]
  },
  {
   "cell_type": "code",
   "execution_count": null,
   "metadata": {},
   "outputs": [],
   "source": [
    "# #reemplazamos los outliers por su media al solo ser 3 outliers en total, YA HABÍAMOS CORREGIDO CON LA MEDIANA\n",
    "# def reemplazar_outliers(df):\n",
    "#     for col in df.columns:\n",
    "#         if df[col].dtype != 'object':\n",
    "#             df[col] = np.where(detectar_outlierscol(df[col]), df[col].mean(), df[col])\n",
    "#     return df\n",
    "# reemplazar_outliers(df)"
   ]
  },
  {
   "cell_type": "markdown",
   "metadata": {},
   "source": [
    "******"
   ]
  },
  {
   "cell_type": "markdown",
   "metadata": {},
   "source": [
    "* NORMALIZACIÓN "
   ]
  },
  {
   "cell_type": "code",
   "execution_count": 208,
   "metadata": {},
   "outputs": [
    {
     "data": {
      "text/html": [
       "<div>\n",
       "<style scoped>\n",
       "    .dataframe tbody tr th:only-of-type {\n",
       "        vertical-align: middle;\n",
       "    }\n",
       "\n",
       "    .dataframe tbody tr th {\n",
       "        vertical-align: top;\n",
       "    }\n",
       "\n",
       "    .dataframe thead th {\n",
       "        text-align: right;\n",
       "    }\n",
       "</style>\n",
       "<table border=\"1\" class=\"dataframe\">\n",
       "  <thead>\n",
       "    <tr style=\"text-align: right;\">\n",
       "      <th></th>\n",
       "      <th>site</th>\n",
       "      <th>Pop</th>\n",
       "      <th>sex</th>\n",
       "      <th>age</th>\n",
       "      <th>hdlngth</th>\n",
       "      <th>skullw</th>\n",
       "      <th>totlngth</th>\n",
       "      <th>taill</th>\n",
       "      <th>footlgth</th>\n",
       "      <th>earconch</th>\n",
       "      <th>eye</th>\n",
       "      <th>chest</th>\n",
       "      <th>belly</th>\n",
       "    </tr>\n",
       "  </thead>\n",
       "  <tbody>\n",
       "    <tr>\n",
       "      <th>min</th>\n",
       "      <td>1.0</td>\n",
       "      <td>1.0</td>\n",
       "      <td>1.0</td>\n",
       "      <td>1.0</td>\n",
       "      <td>82.5</td>\n",
       "      <td>50.0</td>\n",
       "      <td>75.0</td>\n",
       "      <td>32.0</td>\n",
       "      <td>60.3</td>\n",
       "      <td>40.3</td>\n",
       "      <td>12.8</td>\n",
       "      <td>22.0</td>\n",
       "      <td>25.0</td>\n",
       "    </tr>\n",
       "    <tr>\n",
       "      <th>max</th>\n",
       "      <td>7.0</td>\n",
       "      <td>2.0</td>\n",
       "      <td>2.0</td>\n",
       "      <td>9.0</td>\n",
       "      <td>103.1</td>\n",
       "      <td>68.6</td>\n",
       "      <td>96.5</td>\n",
       "      <td>43.0</td>\n",
       "      <td>77.9</td>\n",
       "      <td>56.2</td>\n",
       "      <td>17.8</td>\n",
       "      <td>32.0</td>\n",
       "      <td>40.0</td>\n",
       "    </tr>\n",
       "  </tbody>\n",
       "</table>\n",
       "</div>"
      ],
      "text/plain": [
       "     site  Pop  sex  age  hdlngth  skullw  totlngth  taill  footlgth  \\\n",
       "min   1.0  1.0  1.0  1.0     82.5    50.0      75.0   32.0      60.3   \n",
       "max   7.0  2.0  2.0  9.0    103.1    68.6      96.5   43.0      77.9   \n",
       "\n",
       "     earconch   eye  chest  belly  \n",
       "min      40.3  12.8   22.0   25.0  \n",
       "max      56.2  17.8   32.0   40.0  "
      ]
     },
     "execution_count": 208,
     "metadata": {},
     "output_type": "execute_result"
    }
   ],
   "source": [
    "#voy a comprobar los valores minimos y maximos de cada columna para ver si tengo que normalizar\n",
    "minimos = df.min()\n",
    "maximos = df.max()\n",
    "\n",
    "#creo un df con esos valores para verlo mejor\n",
    "min_max = pd.DataFrame({'min': minimos, 'max': maximos})\n",
    "min_max.T"
   ]
  },
  {
   "cell_type": "markdown",
   "metadata": {},
   "source": [
    "En este caso, las variables que podrían beneficiarse de la normalización, basándonos en sus valores mínimos y máximos, son:\n",
    "\n",
    "- hdlngth: varía de 82.5 a 103.1\n",
    "- skullw: varía de 50.0 a 64.2\n",
    "- totlngth: varía de 75.0 a 96.5\n",
    "- taill: varía de 32.0 a 41.5\n",
    "- footlgth: varía de 60.3 a 77.9\n",
    "- earconch: varía de 40.3 a 56.2\n",
    "- eye: varía de 12.8 a 17.8\n",
    "- chest: varía de 22.0 a 32.0\n",
    "- belly: varía de 25.0 a 40.0\n",
    "- case : varía de 1 a 104\n",
    "\n",
    "Estas variables tienen rangos de valores más amplios en comparación con las otras variables y podrían dominar en los cálculos de distancia si no se normalizan.\n",
    "\n",
    "Por otro lado, las variables como 'case', 'site', 'Pop', 'sex' y 'age' son variables categóricas o identificadores y no necesitan ser normalizadas."
   ]
  },
  {
   "cell_type": "code",
   "execution_count": 209,
   "metadata": {},
   "outputs": [],
   "source": [
    "#Vamos a normalizar esas variables \n",
    "from sklearn.preprocessing import MinMaxScaler\n",
    "\n",
    "scaler = MinMaxScaler()\n",
    "\n",
    "def normalizar_variables(df, cols):\n",
    "    for col in cols:\n",
    "        df[col] = scaler.fit_transform(df[[col]])\n",
    "    return df\n",
    "\n",
    "df = normalizar_variables(df, ['hdlngth', 'skullw', 'totlngth', 'taill', 'footlgth', 'earconch', 'eye', 'chest', 'belly'])\n"
   ]
  },
  {
   "cell_type": "code",
   "execution_count": 210,
   "metadata": {},
   "outputs": [
    {
     "data": {
      "text/html": [
       "<div>\n",
       "<style scoped>\n",
       "    .dataframe tbody tr th:only-of-type {\n",
       "        vertical-align: middle;\n",
       "    }\n",
       "\n",
       "    .dataframe tbody tr th {\n",
       "        vertical-align: top;\n",
       "    }\n",
       "\n",
       "    .dataframe thead th {\n",
       "        text-align: right;\n",
       "    }\n",
       "</style>\n",
       "<table border=\"1\" class=\"dataframe\">\n",
       "  <thead>\n",
       "    <tr style=\"text-align: right;\">\n",
       "      <th></th>\n",
       "      <th>site</th>\n",
       "      <th>Pop</th>\n",
       "      <th>sex</th>\n",
       "      <th>age</th>\n",
       "      <th>hdlngth</th>\n",
       "      <th>skullw</th>\n",
       "      <th>totlngth</th>\n",
       "      <th>taill</th>\n",
       "      <th>footlgth</th>\n",
       "      <th>earconch</th>\n",
       "      <th>eye</th>\n",
       "      <th>chest</th>\n",
       "      <th>belly</th>\n",
       "    </tr>\n",
       "  </thead>\n",
       "  <tbody>\n",
       "    <tr>\n",
       "      <th>0</th>\n",
       "      <td>1</td>\n",
       "      <td>1</td>\n",
       "      <td>2</td>\n",
       "      <td>8.0</td>\n",
       "      <td>0.563107</td>\n",
       "      <td>0.559140</td>\n",
       "      <td>0.651163</td>\n",
       "      <td>0.363636</td>\n",
       "      <td>0.806818</td>\n",
       "      <td>0.893082</td>\n",
       "      <td>0.48</td>\n",
       "      <td>0.60</td>\n",
       "      <td>0.733333</td>\n",
       "    </tr>\n",
       "    <tr>\n",
       "      <th>1</th>\n",
       "      <td>1</td>\n",
       "      <td>1</td>\n",
       "      <td>1</td>\n",
       "      <td>6.0</td>\n",
       "      <td>0.485437</td>\n",
       "      <td>0.408602</td>\n",
       "      <td>0.767442</td>\n",
       "      <td>0.409091</td>\n",
       "      <td>0.693182</td>\n",
       "      <td>0.685535</td>\n",
       "      <td>0.64</td>\n",
       "      <td>0.65</td>\n",
       "      <td>0.533333</td>\n",
       "    </tr>\n",
       "    <tr>\n",
       "      <th>2</th>\n",
       "      <td>1</td>\n",
       "      <td>1</td>\n",
       "      <td>1</td>\n",
       "      <td>6.0</td>\n",
       "      <td>0.558252</td>\n",
       "      <td>0.537634</td>\n",
       "      <td>0.953488</td>\n",
       "      <td>0.636364</td>\n",
       "      <td>0.857955</td>\n",
       "      <td>0.729560</td>\n",
       "      <td>0.54</td>\n",
       "      <td>0.80</td>\n",
       "      <td>0.600000</td>\n",
       "    </tr>\n",
       "    <tr>\n",
       "      <th>3</th>\n",
       "      <td>1</td>\n",
       "      <td>1</td>\n",
       "      <td>1</td>\n",
       "      <td>6.0</td>\n",
       "      <td>0.519417</td>\n",
       "      <td>0.381720</td>\n",
       "      <td>0.790698</td>\n",
       "      <td>0.545455</td>\n",
       "      <td>0.897727</td>\n",
       "      <td>0.748428</td>\n",
       "      <td>0.48</td>\n",
       "      <td>0.60</td>\n",
       "      <td>0.600000</td>\n",
       "    </tr>\n",
       "    <tr>\n",
       "      <th>4</th>\n",
       "      <td>1</td>\n",
       "      <td>1</td>\n",
       "      <td>1</td>\n",
       "      <td>2.0</td>\n",
       "      <td>0.436893</td>\n",
       "      <td>0.338710</td>\n",
       "      <td>0.488372</td>\n",
       "      <td>0.363636</td>\n",
       "      <td>0.607955</td>\n",
       "      <td>0.811321</td>\n",
       "      <td>0.46</td>\n",
       "      <td>0.65</td>\n",
       "      <td>0.533333</td>\n",
       "    </tr>\n",
       "    <tr>\n",
       "      <th>...</th>\n",
       "      <td>...</td>\n",
       "      <td>...</td>\n",
       "      <td>...</td>\n",
       "      <td>...</td>\n",
       "      <td>...</td>\n",
       "      <td>...</td>\n",
       "      <td>...</td>\n",
       "      <td>...</td>\n",
       "      <td>...</td>\n",
       "      <td>...</td>\n",
       "      <td>...</td>\n",
       "      <td>...</td>\n",
       "      <td>...</td>\n",
       "    </tr>\n",
       "    <tr>\n",
       "      <th>99</th>\n",
       "      <td>7</td>\n",
       "      <td>2</td>\n",
       "      <td>2</td>\n",
       "      <td>1.0</td>\n",
       "      <td>0.339806</td>\n",
       "      <td>0.322581</td>\n",
       "      <td>0.302326</td>\n",
       "      <td>0.409091</td>\n",
       "      <td>0.323864</td>\n",
       "      <td>0.408805</td>\n",
       "      <td>0.40</td>\n",
       "      <td>0.10</td>\n",
       "      <td>0.133333</td>\n",
       "    </tr>\n",
       "    <tr>\n",
       "      <th>100</th>\n",
       "      <td>7</td>\n",
       "      <td>2</td>\n",
       "      <td>2</td>\n",
       "      <td>1.0</td>\n",
       "      <td>0.296117</td>\n",
       "      <td>0.252688</td>\n",
       "      <td>0.348837</td>\n",
       "      <td>0.636364</td>\n",
       "      <td>0.232955</td>\n",
       "      <td>0.484277</td>\n",
       "      <td>0.24</td>\n",
       "      <td>0.30</td>\n",
       "      <td>0.533333</td>\n",
       "    </tr>\n",
       "    <tr>\n",
       "      <th>101</th>\n",
       "      <td>7</td>\n",
       "      <td>2</td>\n",
       "      <td>1</td>\n",
       "      <td>6.0</td>\n",
       "      <td>0.480583</td>\n",
       "      <td>0.268817</td>\n",
       "      <td>0.651163</td>\n",
       "      <td>0.545455</td>\n",
       "      <td>0.181818</td>\n",
       "      <td>0.320755</td>\n",
       "      <td>0.04</td>\n",
       "      <td>0.30</td>\n",
       "      <td>0.333333</td>\n",
       "    </tr>\n",
       "    <tr>\n",
       "      <th>102</th>\n",
       "      <td>7</td>\n",
       "      <td>2</td>\n",
       "      <td>2</td>\n",
       "      <td>4.0</td>\n",
       "      <td>0.436893</td>\n",
       "      <td>0.279570</td>\n",
       "      <td>0.348837</td>\n",
       "      <td>0.409091</td>\n",
       "      <td>0.147727</td>\n",
       "      <td>0.352201</td>\n",
       "      <td>0.52</td>\n",
       "      <td>0.30</td>\n",
       "      <td>0.266667</td>\n",
       "    </tr>\n",
       "    <tr>\n",
       "      <th>103</th>\n",
       "      <td>7</td>\n",
       "      <td>2</td>\n",
       "      <td>1</td>\n",
       "      <td>3.0</td>\n",
       "      <td>0.538835</td>\n",
       "      <td>0.532258</td>\n",
       "      <td>0.651163</td>\n",
       "      <td>0.727273</td>\n",
       "      <td>0.414773</td>\n",
       "      <td>0.358491</td>\n",
       "      <td>0.40</td>\n",
       "      <td>0.65</td>\n",
       "      <td>0.566667</td>\n",
       "    </tr>\n",
       "  </tbody>\n",
       "</table>\n",
       "<p>104 rows × 13 columns</p>\n",
       "</div>"
      ],
      "text/plain": [
       "     site  Pop  sex  age   hdlngth    skullw  totlngth     taill  footlgth  \\\n",
       "0       1    1    2  8.0  0.563107  0.559140  0.651163  0.363636  0.806818   \n",
       "1       1    1    1  6.0  0.485437  0.408602  0.767442  0.409091  0.693182   \n",
       "2       1    1    1  6.0  0.558252  0.537634  0.953488  0.636364  0.857955   \n",
       "3       1    1    1  6.0  0.519417  0.381720  0.790698  0.545455  0.897727   \n",
       "4       1    1    1  2.0  0.436893  0.338710  0.488372  0.363636  0.607955   \n",
       "..    ...  ...  ...  ...       ...       ...       ...       ...       ...   \n",
       "99      7    2    2  1.0  0.339806  0.322581  0.302326  0.409091  0.323864   \n",
       "100     7    2    2  1.0  0.296117  0.252688  0.348837  0.636364  0.232955   \n",
       "101     7    2    1  6.0  0.480583  0.268817  0.651163  0.545455  0.181818   \n",
       "102     7    2    2  4.0  0.436893  0.279570  0.348837  0.409091  0.147727   \n",
       "103     7    2    1  3.0  0.538835  0.532258  0.651163  0.727273  0.414773   \n",
       "\n",
       "     earconch   eye  chest     belly  \n",
       "0    0.893082  0.48   0.60  0.733333  \n",
       "1    0.685535  0.64   0.65  0.533333  \n",
       "2    0.729560  0.54   0.80  0.600000  \n",
       "3    0.748428  0.48   0.60  0.600000  \n",
       "4    0.811321  0.46   0.65  0.533333  \n",
       "..        ...   ...    ...       ...  \n",
       "99   0.408805  0.40   0.10  0.133333  \n",
       "100  0.484277  0.24   0.30  0.533333  \n",
       "101  0.320755  0.04   0.30  0.333333  \n",
       "102  0.352201  0.52   0.30  0.266667  \n",
       "103  0.358491  0.40   0.65  0.566667  \n",
       "\n",
       "[104 rows x 13 columns]"
      ]
     },
     "execution_count": 210,
     "metadata": {},
     "output_type": "execute_result"
    }
   ],
   "source": [
    "df"
   ]
  },
  {
   "cell_type": "markdown",
   "metadata": {},
   "source": [
    "***************"
   ]
  },
  {
   "cell_type": "markdown",
   "metadata": {},
   "source": [
    "* DIVISION DE DATOS"
   ]
  },
  {
   "cell_type": "code",
   "execution_count": 199,
   "metadata": {},
   "outputs": [],
   "source": [
    "# Nuestra variable objetivo es la edad: \n",
    "# Separamos así en train y test\n",
    "from sklearn.model_selection import train_test_split\n",
    "\n",
    "X = df.drop('age', axis=1)\n",
    "y = df['age']\n",
    "\n",
    "X_train, X_test, y_train, y_test = train_test_split(X, y, test_size= 0.1, random_state = 300 )"
   ]
  },
  {
   "cell_type": "code",
   "execution_count": 200,
   "metadata": {},
   "outputs": [
    {
     "name": "stderr",
     "output_type": "stream",
     "text": [
      "C:\\Users\\Jesús\\AppData\\Local\\Temp\\ipykernel_17164\\2077797457.py:4: UserWarning:\n",
      "\n",
      "\n",
      "\n",
      "`distplot` is a deprecated function and will be removed in seaborn v0.14.0.\n",
      "\n",
      "Please adapt your code to use either `displot` (a figure-level function with\n",
      "similar flexibility) or `histplot` (an axes-level function for histograms).\n",
      "\n",
      "For a guide to updating your code to use the new functions, please see\n",
      "https://gist.github.com/mwaskom/de44147ed2974457ad6372750bbe5751\n",
      "\n",
      "\n"
     ]
    },
    {
     "name": "stdout",
     "output_type": "stream",
     "text": [
      "\n",
      " mu = 3.78 and sigma = 1.90\n",
      "\n"
     ]
    },
    {
     "data": {
      "image/png": "[encoded data removed]",
      "text/plain": [
       "<Figure size 640x480 with 1 Axes>"
      ]
     },
     "metadata": {},
     "output_type": "display_data"
    },
    {
     "data": {
      "image/png": "[encoded data removed]",
      "text/plain": [
       "<Figure size 640x480 with 1 Axes>"
      ]
     },
     "metadata": {},
     "output_type": "display_data"
    }
   ],
   "source": [
    "from scipy import stats\n",
    "train_data = pd.concat([X_train, y_train], axis = 1) #Datos de entrenamiento\n",
    "\n",
    "sns.distplot(train_data['age'] , fit=stats.norm); #Distribución de precios\n",
    "\n",
    "# Get the fitted parameters used by the function\n",
    "(mu, sigma) = stats.norm.fit(train_data['age'])\n",
    "print( '\\n mu = {:.2f} and sigma = {:.2f}\\n'.format(mu, sigma))\n",
    "\n",
    "#Now plot the distribution\n",
    "plt.legend(['Distribución normal ($\\mu=$ {:.2f} and $\\sigma=$ {:.2f} )'.format(mu, sigma)],loc='best')\n",
    "plt.ylabel('Densidad')\n",
    "plt.title('Distribución precios')\n",
    "\n",
    "#Mostramos QQ-plot\n",
    "fig = plt.figure()\n",
    "res = stats.probplot(train_data['age'], plot=plt)\n",
    "plt.show()"
   ]
  },
  {
   "cell_type": "markdown",
   "metadata": {},
   "source": [
    "### Podemos decir que hay una regresión elevada entre variables"
   ]
  },
  {
   "cell_type": "markdown",
   "metadata": {},
   "source": [
    "* MODELADO DE REGRESIÓN "
   ]
  },
  {
   "cell_type": "code",
   "execution_count": 201,
   "metadata": {},
   "outputs": [
    {
     "data": {
      "text/plain": [
       "((93, 12), (11, 12))"
      ]
     },
     "execution_count": 201,
     "metadata": {},
     "output_type": "execute_result"
    }
   ],
   "source": [
    "X_train.shape, X_test.shape"
   ]
  },
  {
   "cell_type": "code",
   "execution_count": 202,
   "metadata": {},
   "outputs": [
    {
     "data": {
      "text/plain": [
       "(104,)"
      ]
     },
     "execution_count": 202,
     "metadata": {},
     "output_type": "execute_result"
    }
   ],
   "source": [
    "y.shape"
   ]
  },
  {
   "cell_type": "markdown",
   "metadata": {},
   "source": [
    "* Modelado de Regresión:\n",
    "Construyan un modelo de regresión usando el conjunto de entrenamiento. Pueden empezar con una regresión lineal simple y luego explorar modelos más complejos si es necesario.\n",
    "* Evaluación del Modelo:\n",
    "Utilicen el conjunto de prueba para evaluar el rendimiento de su modelo. Presten atención a métricas como el RMSE y �2R2.\n",
    "* Iteración:\n",
    "Basándose en la evaluación, ajusten su modelo si es necesario. Experimenten con diferentes técnicas de modelado o selección de variables para mejorar los resultados.\n",
    "* Documentación:\n",
    "Documenten cuidadosamente su proceso de análisis y los resultados obtenidos, incluyendo gráficos y tablas que resuman sus hallazgos.\n",
    "* GitHub:\n",
    "Creación de Repositorio: Crear un repositorio en GitHub para su proyecto.\n",
    "Estructura del Repositorio: Organizar el repositorio con carpetas claramente definidas para datos, scripts de análisis y documentos."
   ]
  },
  {
   "cell_type": "code",
   "execution_count": 203,
   "metadata": {},
   "outputs": [
    {
     "name": "stdout",
     "output_type": "stream",
     "text": [
      "Error cuadrático medio (MSE): 2.0441985588447875\n"
     ]
    }
   ],
   "source": [
    "from sklearn.linear_model import LinearRegression\n",
    "from sklearn.model_selection import train_test_split\n",
    "from sklearn.metrics import mean_squared_error\n",
    "\n",
    "modelo_regresion = LinearRegression()\n",
    "\n",
    "## Entrenar modelo\n",
    "modelo_regresion.fit(X_train, y_train)\n",
    "\n",
    "## Predicciones en el conjunto de prueba\n",
    "predicciones = modelo_regresion.predict(X_test)\n",
    "## MSE\n",
    "mse = mean_squared_error(y_test, predicciones)\n",
    "print(\"Error cuadrático medio (MSE):\", mse)"
   ]
  },
  {
   "cell_type": "code",
   "execution_count": 204,
   "metadata": {},
   "outputs": [
    {
     "data": {
      "text/html": [
       "<div>\n",
       "<style scoped>\n",
       "    .dataframe tbody tr th:only-of-type {\n",
       "        vertical-align: middle;\n",
       "    }\n",
       "\n",
       "    .dataframe tbody tr th {\n",
       "        vertical-align: top;\n",
       "    }\n",
       "\n",
       "    .dataframe thead th {\n",
       "        text-align: right;\n",
       "    }\n",
       "</style>\n",
       "<table border=\"1\" class=\"dataframe\">\n",
       "  <thead>\n",
       "    <tr style=\"text-align: right;\">\n",
       "      <th></th>\n",
       "      <th>site</th>\n",
       "      <th>Pop</th>\n",
       "      <th>sex</th>\n",
       "      <th>hdlngth</th>\n",
       "      <th>skullw</th>\n",
       "      <th>totlngth</th>\n",
       "      <th>taill</th>\n",
       "      <th>footlgth</th>\n",
       "      <th>earconch</th>\n",
       "      <th>eye</th>\n",
       "      <th>chest</th>\n",
       "      <th>belly</th>\n",
       "    </tr>\n",
       "  </thead>\n",
       "  <tbody>\n",
       "    <tr>\n",
       "      <th>95</th>\n",
       "      <td>7</td>\n",
       "      <td>2</td>\n",
       "      <td>2</td>\n",
       "      <td>94.8</td>\n",
       "      <td>55.7</td>\n",
       "      <td>83.0</td>\n",
       "      <td>38.0</td>\n",
       "      <td>66.5</td>\n",
       "      <td>47.7</td>\n",
       "      <td>14.0</td>\n",
       "      <td>25.0</td>\n",
       "      <td>33.0</td>\n",
       "    </tr>\n",
       "    <tr>\n",
       "      <th>7</th>\n",
       "      <td>1</td>\n",
       "      <td>1</td>\n",
       "      <td>1</td>\n",
       "      <td>94.8</td>\n",
       "      <td>57.6</td>\n",
       "      <td>91.0</td>\n",
       "      <td>37.0</td>\n",
       "      <td>72.7</td>\n",
       "      <td>53.9</td>\n",
       "      <td>14.5</td>\n",
       "      <td>29.0</td>\n",
       "      <td>34.0</td>\n",
       "    </tr>\n",
       "    <tr>\n",
       "      <th>88</th>\n",
       "      <td>7</td>\n",
       "      <td>2</td>\n",
       "      <td>2</td>\n",
       "      <td>97.7</td>\n",
       "      <td>58.4</td>\n",
       "      <td>84.5</td>\n",
       "      <td>35.0</td>\n",
       "      <td>64.4</td>\n",
       "      <td>46.2</td>\n",
       "      <td>14.4</td>\n",
       "      <td>29.0</td>\n",
       "      <td>30.5</td>\n",
       "    </tr>\n",
       "    <tr>\n",
       "      <th>50</th>\n",
       "      <td>3</td>\n",
       "      <td>2</td>\n",
       "      <td>1</td>\n",
       "      <td>95.6</td>\n",
       "      <td>59.6</td>\n",
       "      <td>85.0</td>\n",
       "      <td>36.0</td>\n",
       "      <td>64.0</td>\n",
       "      <td>43.9</td>\n",
       "      <td>17.4</td>\n",
       "      <td>28.0</td>\n",
       "      <td>38.5</td>\n",
       "    </tr>\n",
       "    <tr>\n",
       "      <th>27</th>\n",
       "      <td>1</td>\n",
       "      <td>1</td>\n",
       "      <td>2</td>\n",
       "      <td>93.8</td>\n",
       "      <td>56.8</td>\n",
       "      <td>87.0</td>\n",
       "      <td>34.5</td>\n",
       "      <td>73.2</td>\n",
       "      <td>53.0</td>\n",
       "      <td>15.3</td>\n",
       "      <td>27.0</td>\n",
       "      <td>30.0</td>\n",
       "    </tr>\n",
       "    <tr>\n",
       "      <th>90</th>\n",
       "      <td>7</td>\n",
       "      <td>2</td>\n",
       "      <td>2</td>\n",
       "      <td>97.8</td>\n",
       "      <td>59.6</td>\n",
       "      <td>89.0</td>\n",
       "      <td>38.0</td>\n",
       "      <td>65.5</td>\n",
       "      <td>48.0</td>\n",
       "      <td>15.0</td>\n",
       "      <td>26.0</td>\n",
       "      <td>32.0</td>\n",
       "    </tr>\n",
       "    <tr>\n",
       "      <th>11</th>\n",
       "      <td>1</td>\n",
       "      <td>1</td>\n",
       "      <td>1</td>\n",
       "      <td>94.9</td>\n",
       "      <td>55.6</td>\n",
       "      <td>92.0</td>\n",
       "      <td>35.5</td>\n",
       "      <td>71.7</td>\n",
       "      <td>51.0</td>\n",
       "      <td>15.3</td>\n",
       "      <td>28.0</td>\n",
       "      <td>33.0</td>\n",
       "    </tr>\n",
       "    <tr>\n",
       "      <th>78</th>\n",
       "      <td>6</td>\n",
       "      <td>2</td>\n",
       "      <td>2</td>\n",
       "      <td>85.8</td>\n",
       "      <td>50.0</td>\n",
       "      <td>81.0</td>\n",
       "      <td>36.5</td>\n",
       "      <td>62.8</td>\n",
       "      <td>43.0</td>\n",
       "      <td>14.8</td>\n",
       "      <td>22.0</td>\n",
       "      <td>28.5</td>\n",
       "    </tr>\n",
       "    <tr>\n",
       "      <th>79</th>\n",
       "      <td>6</td>\n",
       "      <td>2</td>\n",
       "      <td>2</td>\n",
       "      <td>86.7</td>\n",
       "      <td>52.6</td>\n",
       "      <td>84.0</td>\n",
       "      <td>38.0</td>\n",
       "      <td>62.3</td>\n",
       "      <td>44.8</td>\n",
       "      <td>15.0</td>\n",
       "      <td>23.5</td>\n",
       "      <td>30.5</td>\n",
       "    </tr>\n",
       "    <tr>\n",
       "      <th>34</th>\n",
       "      <td>2</td>\n",
       "      <td>1</td>\n",
       "      <td>2</td>\n",
       "      <td>94.4</td>\n",
       "      <td>57.9</td>\n",
       "      <td>85.0</td>\n",
       "      <td>35.5</td>\n",
       "      <td>71.2</td>\n",
       "      <td>55.5</td>\n",
       "      <td>16.4</td>\n",
       "      <td>28.0</td>\n",
       "      <td>35.5</td>\n",
       "    </tr>\n",
       "    <tr>\n",
       "      <th>70</th>\n",
       "      <td>5</td>\n",
       "      <td>2</td>\n",
       "      <td>2</td>\n",
       "      <td>92.8</td>\n",
       "      <td>57.6</td>\n",
       "      <td>90.0</td>\n",
       "      <td>40.0</td>\n",
       "      <td>65.7</td>\n",
       "      <td>42.8</td>\n",
       "      <td>15.0</td>\n",
       "      <td>27.5</td>\n",
       "      <td>34.0</td>\n",
       "    </tr>\n",
       "  </tbody>\n",
       "</table>\n",
       "</div>"
      ],
      "text/plain": [
       "    site  Pop  sex  hdlngth  skullw  totlngth  taill  footlgth  earconch  \\\n",
       "95     7    2    2     94.8    55.7      83.0   38.0      66.5      47.7   \n",
       "7      1    1    1     94.8    57.6      91.0   37.0      72.7      53.9   \n",
       "88     7    2    2     97.7    58.4      84.5   35.0      64.4      46.2   \n",
       "50     3    2    1     95.6    59.6      85.0   36.0      64.0      43.9   \n",
       "27     1    1    2     93.8    56.8      87.0   34.5      73.2      53.0   \n",
       "90     7    2    2     97.8    59.6      89.0   38.0      65.5      48.0   \n",
       "11     1    1    1     94.9    55.6      92.0   35.5      71.7      51.0   \n",
       "78     6    2    2     85.8    50.0      81.0   36.5      62.8      43.0   \n",
       "79     6    2    2     86.7    52.6      84.0   38.0      62.3      44.8   \n",
       "34     2    1    2     94.4    57.9      85.0   35.5      71.2      55.5   \n",
       "70     5    2    2     92.8    57.6      90.0   40.0      65.7      42.8   \n",
       "\n",
       "     eye  chest  belly  \n",
       "95  14.0   25.0   33.0  \n",
       "7   14.5   29.0   34.0  \n",
       "88  14.4   29.0   30.5  \n",
       "50  17.4   28.0   38.5  \n",
       "27  15.3   27.0   30.0  \n",
       "90  15.0   26.0   32.0  \n",
       "11  15.3   28.0   33.0  \n",
       "78  14.8   22.0   28.5  \n",
       "79  15.0   23.5   30.5  \n",
       "34  16.4   28.0   35.5  \n",
       "70  15.0   27.5   34.0  "
      ]
     },
     "execution_count": 204,
     "metadata": {},
     "output_type": "execute_result"
    }
   ],
   "source": [
    "X_test"
   ]
  },
  {
   "cell_type": "code",
   "execution_count": 205,
   "metadata": {},
   "outputs": [],
   "source": [
    "# ### Estandarizamos, media 0 desv 1 en caso de tener datos muy dispares, unos en miles/millones y otros \n",
    "# from sklearn.preprocessing import StandardScaler\n",
    "\n",
    "# std= StandardScaler()\n",
    "# df[num_columnas]= std.fit_transform(df[num_columnas])\n",
    "# df[num_columnas]= std.transform(df[num_columnas])"
   ]
  },
  {
   "cell_type": "code",
   "execution_count": 206,
   "metadata": {},
   "outputs": [
    {
     "name": "stdout",
     "output_type": "stream",
     "text": [
      "Root Mean Squared Error (RMSE): 1.4297547198190281\n",
      "R-squared (R²) Score: 0.31671816127011254\n"
     ]
    }
   ],
   "source": [
    "from sklearn.metrics import mean_squared_error, r2_score\n",
    "import numpy as np\n",
    "\n",
    "# Suponiendo que 'y_test' son las etiquetas reales y 'predicciones' son las predicciones del modelo\n",
    "\n",
    "# Calcular el error cuadrático medio (RMSE)\n",
    "rmse = np.sqrt(mean_squared_error(y_test, predicciones))\n",
    "print(\"Root Mean Squared Error (RMSE):\", rmse)\n",
    "\n",
    "# Calcular el coeficiente de determinación (R²)\n",
    "r2 = r2_score(y_test, predicciones)\n",
    "print(\"R-squared (R²) Score:\", r2)"
   ]
  },
  {
   "cell_type": "markdown",
   "metadata": {},
   "source": [
    "### Puedo predecir con un 31% de precisión"
   ]
  },
  {
   "cell_type": "code",
   "execution_count": 207,
   "metadata": {},
   "outputs": [
    {
     "data": {
      "text/plain": [
       "['possum.pkl']"
      ]
     },
     "execution_count": 207,
     "metadata": {},
     "output_type": "execute_result"
    }
   ],
   "source": [
    "import joblib\n",
    "\n",
    "joblib.dump(modelo_regresion, 'possum.pkl')\n"
   ]
  }
 ],
 "metadata": {
  "kernelspec": {
   "display_name": "entorno",
   "language": "python",
   "name": "python3"
  },
  "language_info": {
   "codemirror_mode": {
    "name": "ipython",
    "version": 3
   },
   "file_extension": ".py",
   "mimetype": "text/x-python",
   "name": "python",
   "nbconvert_exporter": "python",
   "pygments_lexer": "ipython3",
   "version": "3.10.10"
  }
 },
 "nbformat": 4,
 "nbformat_minor": 2
}
